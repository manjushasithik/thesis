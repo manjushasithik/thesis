{
  "cells": [
    {
      "cell_type": "markdown",
      "metadata": {
        "id": "UCZRoWupaIr4"
      },
      "source": [
        "##Setting Up The YOLOv5 Environment 🚀"
      ]
    },
    {
      "cell_type": "code",
      "execution_count": null,
      "metadata": {
        "colab": {
          "base_uri": "https://localhost:8080/"
        },
        "id": "U9PDDVZKaQqm",
        "outputId": "6c1e279c-6063-4d57-dae6-663a1e236984"
      },
      "outputs": [
        {
          "output_type": "stream",
          "name": "stdout",
          "text": [
            "Cloning into 'yolov5'...\n",
            "remote: Enumerating objects: 14308, done.\u001b[K\n",
            "remote: Counting objects: 100% (66/66), done.\u001b[K\n",
            "remote: Compressing objects: 100% (50/50), done.\u001b[K\n",
            "remote: Total 14308 (delta 30), reused 39 (delta 16), pack-reused 14242\u001b[K\n",
            "Receiving objects: 100% (14308/14308), 13.62 MiB | 15.18 MiB/s, done.\n",
            "Resolving deltas: 100% (9837/9837), done.\n"
          ]
        }
      ],
      "source": [
        "!git clone https://github.com/ultralytics/yolov5  # clone repo"
      ]
    },
    {
      "cell_type": "code",
      "source": [
        "gpu_info = !nvidia-smi\n",
        "gpu_info = '\\n'.join(gpu_info)\n",
        "if gpu_info.find('failed') >= 0:\n",
        "  print('Not connected to a GPU')\n",
        "else:\n",
        "  print(gpu_info)"
      ],
      "metadata": {
        "colab": {
          "base_uri": "https://localhost:8080/"
        },
        "id": "ev6zZ_AMoOqW",
        "outputId": "bcc31ecf-2e74-4cf9-9f27-221f61c6ef89"
      },
      "execution_count": null,
      "outputs": [
        {
          "output_type": "stream",
          "name": "stdout",
          "text": [
            "Sat Dec  3 07:22:50 2022       \n",
            "+-----------------------------------------------------------------------------+\n",
            "| NVIDIA-SMI 460.32.03    Driver Version: 460.32.03    CUDA Version: 11.2     |\n",
            "|-------------------------------+----------------------+----------------------+\n",
            "| GPU  Name        Persistence-M| Bus-Id        Disp.A | Volatile Uncorr. ECC |\n",
            "| Fan  Temp  Perf  Pwr:Usage/Cap|         Memory-Usage | GPU-Util  Compute M. |\n",
            "|                               |                      |               MIG M. |\n",
            "|===============================+======================+======================|\n",
            "|   0  Tesla T4            Off  | 00000000:00:04.0 Off |                    0 |\n",
            "| N/A   44C    P0    26W /  70W |      0MiB / 15109MiB |      0%      Default |\n",
            "|                               |                      |                  N/A |\n",
            "+-------------------------------+----------------------+----------------------+\n",
            "                                                                               \n",
            "+-----------------------------------------------------------------------------+\n",
            "| Processes:                                                                  |\n",
            "|  GPU   GI   CI        PID   Type   Process name                  GPU Memory |\n",
            "|        ID   ID                                                   Usage      |\n",
            "|=============================================================================|\n",
            "|  No running processes found                                                 |\n",
            "+-----------------------------------------------------------------------------+\n"
          ]
        }
      ]
    },
    {
      "cell_type": "code",
      "source": [
        "from psutil import virtual_memory\n",
        "ram_gb = virtual_memory().total / 1e9\n",
        "print('Your runtime has {:.1f} gigabytes of available RAM\\n'.format(ram_gb))\n",
        "\n",
        "if ram_gb < 20:\n",
        "  print('Not using a high-RAM runtime')\n",
        "else:\n",
        "  print('You are using a high-RAM runtime!')"
      ],
      "metadata": {
        "colab": {
          "base_uri": "https://localhost:8080/"
        },
        "id": "X1GaLjwhoMM2",
        "outputId": "e646e4e3-898d-4eff-ef4c-9a030d1ea1f4"
      },
      "execution_count": null,
      "outputs": [
        {
          "output_type": "stream",
          "name": "stdout",
          "text": [
            "Your runtime has 13.6 gigabytes of available RAM\n",
            "\n",
            "Not using a high-RAM runtime\n"
          ]
        }
      ]
    },
    {
      "cell_type": "code",
      "execution_count": null,
      "metadata": {
        "colab": {
          "base_uri": "https://localhost:8080/"
        },
        "id": "Z5tG5G6PcErT",
        "outputId": "13b630d1-74f2-459d-ef7d-4af6e1e46641"
      },
      "outputs": [
        {
          "output_type": "stream",
          "name": "stdout",
          "text": [
            "Looking in indexes: https://pypi.org/simple, https://us-python.pkg.dev/colab-wheels/public/simple/\n",
            "Looking in links: https://download.pytorch.org/whl/torch_stable.html\n",
            "Collecting torch==1.6.0+cu101\n",
            "  Downloading https://download.pytorch.org/whl/cu101/torch-1.6.0%2Bcu101-cp38-cp38-linux_x86_64.whl (708.1 MB)\n",
            "\u001b[K     |████████████████████████████████| 708.1 MB 13 kB/s \n",
            "\u001b[?25hCollecting torchvision==0.7.0+cu101\n",
            "  Downloading https://download.pytorch.org/whl/cu101/torchvision-0.7.0%2Bcu101-cp38-cp38-linux_x86_64.whl (5.9 MB)\n",
            "\u001b[K     |████████████████████████████████| 5.9 MB 11.5 MB/s \n",
            "\u001b[?25hRequirement already satisfied: numpy in /usr/local/lib/python3.8/dist-packages (from torch==1.6.0+cu101) (1.21.6)\n",
            "Requirement already satisfied: future in /usr/local/lib/python3.8/dist-packages (from torch==1.6.0+cu101) (0.16.0)\n",
            "Requirement already satisfied: pillow>=4.1.1 in /usr/local/lib/python3.8/dist-packages (from torchvision==0.7.0+cu101) (7.1.2)\n",
            "Installing collected packages: torch, torchvision\n",
            "  Attempting uninstall: torch\n",
            "    Found existing installation: torch 1.12.1+cu113\n",
            "    Uninstalling torch-1.12.1+cu113:\n",
            "      Successfully uninstalled torch-1.12.1+cu113\n",
            "  Attempting uninstall: torchvision\n",
            "    Found existing installation: torchvision 0.13.1+cu113\n",
            "    Uninstalling torchvision-0.13.1+cu113:\n",
            "      Successfully uninstalled torchvision-0.13.1+cu113\n",
            "\u001b[31mERROR: pip's dependency resolver does not currently take into account all the packages that are installed. This behaviour is the source of the following dependency conflicts.\n",
            "torchtext 0.13.1 requires torch==1.12.1, but you have torch 1.6.0+cu101 which is incompatible.\n",
            "torchaudio 0.12.1+cu113 requires torch==1.12.1, but you have torch 1.6.0+cu101 which is incompatible.\n",
            "fastai 2.7.10 requires torch<1.14,>=1.7, but you have torch 1.6.0+cu101 which is incompatible.\n",
            "fastai 2.7.10 requires torchvision>=0.8.2, but you have torchvision 0.7.0+cu101 which is incompatible.\u001b[0m\n",
            "Successfully installed torch-1.6.0+cu101 torchvision-0.7.0+cu101\n"
          ]
        }
      ],
      "source": [
        "#installing for google colab GPU use\n",
        "!pip install torch==1.6.0+cu101 torchvision==0.7.0+cu101 -f https://download.pytorch.org/whl/torch_stable.html"
      ]
    },
    {
      "cell_type": "code",
      "execution_count": null,
      "metadata": {
        "colab": {
          "base_uri": "https://localhost:8080/"
        },
        "id": "gnaHpwB6ajrB",
        "outputId": "018837a9-d4cd-4863-fb99-b0d8591f10df"
      },
      "outputs": [
        {
          "output_type": "stream",
          "name": "stdout",
          "text": [
            "Looking in indexes: https://pypi.org/simple, https://us-python.pkg.dev/colab-wheels/public/simple/\n",
            "Collecting gitpython\n",
            "  Downloading GitPython-3.1.29-py3-none-any.whl (182 kB)\n",
            "\u001b[K     |████████████████████████████████| 182 kB 37.0 MB/s \n",
            "\u001b[?25hRequirement already satisfied: ipython in /usr/local/lib/python3.8/dist-packages (from -r /content/yolov5/requirements.txt (line 6)) (7.9.0)\n",
            "Requirement already satisfied: matplotlib>=3.2.2 in /usr/local/lib/python3.8/dist-packages (from -r /content/yolov5/requirements.txt (line 7)) (3.2.2)\n",
            "Requirement already satisfied: numpy>=1.18.5 in /usr/local/lib/python3.8/dist-packages (from -r /content/yolov5/requirements.txt (line 8)) (1.21.6)\n",
            "Requirement already satisfied: opencv-python>=4.1.1 in /usr/local/lib/python3.8/dist-packages (from -r /content/yolov5/requirements.txt (line 9)) (4.6.0.66)\n",
            "Requirement already satisfied: Pillow>=7.1.2 in /usr/local/lib/python3.8/dist-packages (from -r /content/yolov5/requirements.txt (line 10)) (7.1.2)\n",
            "Requirement already satisfied: psutil in /usr/local/lib/python3.8/dist-packages (from -r /content/yolov5/requirements.txt (line 11)) (5.4.8)\n",
            "Requirement already satisfied: PyYAML>=5.3.1 in /usr/local/lib/python3.8/dist-packages (from -r /content/yolov5/requirements.txt (line 12)) (6.0)\n",
            "Requirement already satisfied: requests>=2.23.0 in /usr/local/lib/python3.8/dist-packages (from -r /content/yolov5/requirements.txt (line 13)) (2.23.0)\n",
            "Requirement already satisfied: scipy>=1.4.1 in /usr/local/lib/python3.8/dist-packages (from -r /content/yolov5/requirements.txt (line 14)) (1.7.3)\n",
            "Collecting thop>=0.1.1\n",
            "  Downloading thop-0.1.1.post2209072238-py3-none-any.whl (15 kB)\n",
            "Collecting torch>=1.7.0\n",
            "  Downloading torch-1.13.0-cp38-cp38-manylinux1_x86_64.whl (890.2 MB)\n",
            "\u001b[K     |██████████████████████████████  | 834.1 MB 67.5 MB/s eta 0:00:01tcmalloc: large alloc 1147494400 bytes == 0x3a0f8000 @  0x7f4bb14a3615 0x5d631c 0x51e4f1 0x51e67b 0x4f7585 0x49ca7c 0x4fdff5 0x49caa1 0x4fdff5 0x49ced5 0x4f60a9 0x55f926 0x4f60a9 0x55f926 0x4f60a9 0x55f926 0x5d7c18 0x5d9412 0x586636 0x5d813c 0x55f3fd 0x55e571 0x5d7cf1 0x49ced5 0x55e571 0x5d7cf1 0x49ec69 0x5d7c18 0x49ca7c 0x4fdff5 0x49ced5\n",
            "\u001b[K     |████████████████████████████████| 890.2 MB 5.9 kB/s \n",
            "\u001b[?25hCollecting torchvision>=0.8.1\n",
            "  Downloading torchvision-0.14.0-cp38-cp38-manylinux1_x86_64.whl (24.3 MB)\n",
            "\u001b[K     |████████████████████████████████| 24.3 MB 656 kB/s \n",
            "\u001b[?25hRequirement already satisfied: tqdm>=4.64.0 in /usr/local/lib/python3.8/dist-packages (from -r /content/yolov5/requirements.txt (line 18)) (4.64.1)\n",
            "Requirement already satisfied: tensorboard>=2.4.1 in /usr/local/lib/python3.8/dist-packages (from -r /content/yolov5/requirements.txt (line 22)) (2.9.1)\n",
            "Requirement already satisfied: pandas>=1.1.4 in /usr/local/lib/python3.8/dist-packages (from -r /content/yolov5/requirements.txt (line 27)) (1.3.5)\n",
            "Requirement already satisfied: seaborn>=0.11.0 in /usr/local/lib/python3.8/dist-packages (from -r /content/yolov5/requirements.txt (line 28)) (0.11.2)\n",
            "Requirement already satisfied: kiwisolver>=1.0.1 in /usr/local/lib/python3.8/dist-packages (from matplotlib>=3.2.2->-r /content/yolov5/requirements.txt (line 7)) (1.4.4)\n",
            "Requirement already satisfied: python-dateutil>=2.1 in /usr/local/lib/python3.8/dist-packages (from matplotlib>=3.2.2->-r /content/yolov5/requirements.txt (line 7)) (2.8.2)\n",
            "Requirement already satisfied: cycler>=0.10 in /usr/local/lib/python3.8/dist-packages (from matplotlib>=3.2.2->-r /content/yolov5/requirements.txt (line 7)) (0.11.0)\n",
            "Requirement already satisfied: pyparsing!=2.0.4,!=2.1.2,!=2.1.6,>=2.0.1 in /usr/local/lib/python3.8/dist-packages (from matplotlib>=3.2.2->-r /content/yolov5/requirements.txt (line 7)) (3.0.9)\n",
            "Requirement already satisfied: certifi>=2017.4.17 in /usr/local/lib/python3.8/dist-packages (from requests>=2.23.0->-r /content/yolov5/requirements.txt (line 13)) (2022.9.24)\n",
            "Requirement already satisfied: urllib3!=1.25.0,!=1.25.1,<1.26,>=1.21.1 in /usr/local/lib/python3.8/dist-packages (from requests>=2.23.0->-r /content/yolov5/requirements.txt (line 13)) (1.24.3)\n",
            "Requirement already satisfied: chardet<4,>=3.0.2 in /usr/local/lib/python3.8/dist-packages (from requests>=2.23.0->-r /content/yolov5/requirements.txt (line 13)) (3.0.4)\n",
            "Requirement already satisfied: idna<3,>=2.5 in /usr/local/lib/python3.8/dist-packages (from requests>=2.23.0->-r /content/yolov5/requirements.txt (line 13)) (2.10)\n",
            "Collecting nvidia-cublas-cu11==11.10.3.66\n",
            "  Downloading nvidia_cublas_cu11-11.10.3.66-py3-none-manylinux1_x86_64.whl (317.1 MB)\n",
            "\u001b[K     |████████████████████████████████| 317.1 MB 33 kB/s \n",
            "\u001b[?25hCollecting nvidia-cuda-nvrtc-cu11==11.7.99\n",
            "  Downloading nvidia_cuda_nvrtc_cu11-11.7.99-2-py3-none-manylinux1_x86_64.whl (21.0 MB)\n",
            "\u001b[K     |████████████████████████████████| 21.0 MB 1.2 MB/s \n",
            "\u001b[?25hRequirement already satisfied: typing-extensions in /usr/local/lib/python3.8/dist-packages (from torch>=1.7.0->-r /content/yolov5/requirements.txt (line 16)) (4.1.1)\n",
            "Collecting nvidia-cuda-runtime-cu11==11.7.99\n",
            "  Downloading nvidia_cuda_runtime_cu11-11.7.99-py3-none-manylinux1_x86_64.whl (849 kB)\n",
            "\u001b[K     |████████████████████████████████| 849 kB 63.4 MB/s \n",
            "\u001b[?25hCollecting nvidia-cudnn-cu11==8.5.0.96\n",
            "  Downloading nvidia_cudnn_cu11-8.5.0.96-2-py3-none-manylinux1_x86_64.whl (557.1 MB)\n",
            "\u001b[K     |████████████████████████████████| 557.1 MB 12 kB/s \n",
            "\u001b[?25hRequirement already satisfied: setuptools in /usr/local/lib/python3.8/dist-packages (from nvidia-cublas-cu11==11.10.3.66->torch>=1.7.0->-r /content/yolov5/requirements.txt (line 16)) (57.4.0)\n",
            "Requirement already satisfied: wheel in /usr/local/lib/python3.8/dist-packages (from nvidia-cublas-cu11==11.10.3.66->torch>=1.7.0->-r /content/yolov5/requirements.txt (line 16)) (0.38.4)\n",
            "Requirement already satisfied: google-auth-oauthlib<0.5,>=0.4.1 in /usr/local/lib/python3.8/dist-packages (from tensorboard>=2.4.1->-r /content/yolov5/requirements.txt (line 22)) (0.4.6)\n",
            "Requirement already satisfied: tensorboard-data-server<0.7.0,>=0.6.0 in /usr/local/lib/python3.8/dist-packages (from tensorboard>=2.4.1->-r /content/yolov5/requirements.txt (line 22)) (0.6.1)\n",
            "Requirement already satisfied: tensorboard-plugin-wit>=1.6.0 in /usr/local/lib/python3.8/dist-packages (from tensorboard>=2.4.1->-r /content/yolov5/requirements.txt (line 22)) (1.8.1)\n",
            "Requirement already satisfied: google-auth<3,>=1.6.3 in /usr/local/lib/python3.8/dist-packages (from tensorboard>=2.4.1->-r /content/yolov5/requirements.txt (line 22)) (2.14.1)\n",
            "Requirement already satisfied: absl-py>=0.4 in /usr/local/lib/python3.8/dist-packages (from tensorboard>=2.4.1->-r /content/yolov5/requirements.txt (line 22)) (1.3.0)\n",
            "Requirement already satisfied: grpcio>=1.24.3 in /usr/local/lib/python3.8/dist-packages (from tensorboard>=2.4.1->-r /content/yolov5/requirements.txt (line 22)) (1.50.0)\n",
            "Requirement already satisfied: protobuf<3.20,>=3.9.2 in /usr/local/lib/python3.8/dist-packages (from tensorboard>=2.4.1->-r /content/yolov5/requirements.txt (line 22)) (3.19.6)\n",
            "Requirement already satisfied: markdown>=2.6.8 in /usr/local/lib/python3.8/dist-packages (from tensorboard>=2.4.1->-r /content/yolov5/requirements.txt (line 22)) (3.4.1)\n",
            "Requirement already satisfied: werkzeug>=1.0.1 in /usr/local/lib/python3.8/dist-packages (from tensorboard>=2.4.1->-r /content/yolov5/requirements.txt (line 22)) (1.0.1)\n",
            "Requirement already satisfied: pytz>=2017.3 in /usr/local/lib/python3.8/dist-packages (from pandas>=1.1.4->-r /content/yolov5/requirements.txt (line 27)) (2022.6)\n",
            "Requirement already satisfied: rsa<5,>=3.1.4 in /usr/local/lib/python3.8/dist-packages (from google-auth<3,>=1.6.3->tensorboard>=2.4.1->-r /content/yolov5/requirements.txt (line 22)) (4.9)\n",
            "Requirement already satisfied: pyasn1-modules>=0.2.1 in /usr/local/lib/python3.8/dist-packages (from google-auth<3,>=1.6.3->tensorboard>=2.4.1->-r /content/yolov5/requirements.txt (line 22)) (0.2.8)\n",
            "Requirement already satisfied: cachetools<6.0,>=2.0.0 in /usr/local/lib/python3.8/dist-packages (from google-auth<3,>=1.6.3->tensorboard>=2.4.1->-r /content/yolov5/requirements.txt (line 22)) (5.2.0)\n",
            "Requirement already satisfied: six>=1.9.0 in /usr/local/lib/python3.8/dist-packages (from google-auth<3,>=1.6.3->tensorboard>=2.4.1->-r /content/yolov5/requirements.txt (line 22)) (1.15.0)\n",
            "Requirement already satisfied: requests-oauthlib>=0.7.0 in /usr/local/lib/python3.8/dist-packages (from google-auth-oauthlib<0.5,>=0.4.1->tensorboard>=2.4.1->-r /content/yolov5/requirements.txt (line 22)) (1.3.1)\n",
            "Requirement already satisfied: importlib-metadata>=4.4 in /usr/local/lib/python3.8/dist-packages (from markdown>=2.6.8->tensorboard>=2.4.1->-r /content/yolov5/requirements.txt (line 22)) (4.13.0)\n",
            "Requirement already satisfied: zipp>=0.5 in /usr/local/lib/python3.8/dist-packages (from importlib-metadata>=4.4->markdown>=2.6.8->tensorboard>=2.4.1->-r /content/yolov5/requirements.txt (line 22)) (3.10.0)\n",
            "Requirement already satisfied: pyasn1<0.5.0,>=0.4.6 in /usr/local/lib/python3.8/dist-packages (from pyasn1-modules>=0.2.1->google-auth<3,>=1.6.3->tensorboard>=2.4.1->-r /content/yolov5/requirements.txt (line 22)) (0.4.8)\n",
            "Requirement already satisfied: oauthlib>=3.0.0 in /usr/local/lib/python3.8/dist-packages (from requests-oauthlib>=0.7.0->google-auth-oauthlib<0.5,>=0.4.1->tensorboard>=2.4.1->-r /content/yolov5/requirements.txt (line 22)) (3.2.2)\n",
            "Collecting gitdb<5,>=4.0.1\n",
            "  Downloading gitdb-4.0.10-py3-none-any.whl (62 kB)\n",
            "\u001b[K     |████████████████████████████████| 62 kB 1.5 MB/s \n",
            "\u001b[?25hCollecting smmap<6,>=3.0.1\n",
            "  Downloading smmap-5.0.0-py3-none-any.whl (24 kB)\n",
            "Requirement already satisfied: pexpect in /usr/local/lib/python3.8/dist-packages (from ipython->-r /content/yolov5/requirements.txt (line 6)) (4.8.0)\n",
            "Requirement already satisfied: decorator in /usr/local/lib/python3.8/dist-packages (from ipython->-r /content/yolov5/requirements.txt (line 6)) (4.4.2)\n",
            "Requirement already satisfied: pickleshare in /usr/local/lib/python3.8/dist-packages (from ipython->-r /content/yolov5/requirements.txt (line 6)) (0.7.5)\n",
            "Requirement already satisfied: prompt-toolkit<2.1.0,>=2.0.0 in /usr/local/lib/python3.8/dist-packages (from ipython->-r /content/yolov5/requirements.txt (line 6)) (2.0.10)\n",
            "Requirement already satisfied: pygments in /usr/local/lib/python3.8/dist-packages (from ipython->-r /content/yolov5/requirements.txt (line 6)) (2.6.1)\n",
            "Requirement already satisfied: traitlets>=4.2 in /usr/local/lib/python3.8/dist-packages (from ipython->-r /content/yolov5/requirements.txt (line 6)) (5.1.1)\n",
            "Collecting jedi>=0.10\n",
            "  Downloading jedi-0.18.2-py2.py3-none-any.whl (1.6 MB)\n",
            "\u001b[K     |████████████████████████████████| 1.6 MB 53.9 MB/s \n",
            "\u001b[?25hRequirement already satisfied: backcall in /usr/local/lib/python3.8/dist-packages (from ipython->-r /content/yolov5/requirements.txt (line 6)) (0.2.0)\n",
            "Requirement already satisfied: parso<0.9.0,>=0.8.0 in /usr/local/lib/python3.8/dist-packages (from jedi>=0.10->ipython->-r /content/yolov5/requirements.txt (line 6)) (0.8.3)\n",
            "Requirement already satisfied: wcwidth in /usr/local/lib/python3.8/dist-packages (from prompt-toolkit<2.1.0,>=2.0.0->ipython->-r /content/yolov5/requirements.txt (line 6)) (0.2.5)\n",
            "Requirement already satisfied: ptyprocess>=0.5 in /usr/local/lib/python3.8/dist-packages (from pexpect->ipython->-r /content/yolov5/requirements.txt (line 6)) (0.7.0)\n",
            "Installing collected packages: nvidia-cublas-cu11, smmap, nvidia-cudnn-cu11, nvidia-cuda-runtime-cu11, nvidia-cuda-nvrtc-cu11, torch, jedi, gitdb, torchvision, thop, gitpython\n",
            "  Attempting uninstall: torch\n",
            "    Found existing installation: torch 1.6.0+cu101\n",
            "    Uninstalling torch-1.6.0+cu101:\n",
            "      Successfully uninstalled torch-1.6.0+cu101\n",
            "  Attempting uninstall: torchvision\n",
            "    Found existing installation: torchvision 0.7.0+cu101\n",
            "    Uninstalling torchvision-0.7.0+cu101:\n",
            "      Successfully uninstalled torchvision-0.7.0+cu101\n",
            "\u001b[31mERROR: pip's dependency resolver does not currently take into account all the packages that are installed. This behaviour is the source of the following dependency conflicts.\n",
            "torchtext 0.13.1 requires torch==1.12.1, but you have torch 1.13.0 which is incompatible.\n",
            "torchaudio 0.12.1+cu113 requires torch==1.12.1, but you have torch 1.13.0 which is incompatible.\u001b[0m\n",
            "Successfully installed gitdb-4.0.10 gitpython-3.1.29 jedi-0.18.2 nvidia-cublas-cu11-11.10.3.66 nvidia-cuda-nvrtc-cu11-11.7.99 nvidia-cuda-runtime-cu11-11.7.99 nvidia-cudnn-cu11-8.5.0.96 smmap-5.0.0 thop-0.1.1.post2209072238 torch-1.13.0 torchvision-0.14.0\n"
          ]
        }
      ],
      "source": [
        "!pip install -r /content/yolov5/requirements.txt"
      ]
    },
    {
      "cell_type": "code",
      "execution_count": null,
      "metadata": {
        "colab": {
          "base_uri": "https://localhost:8080/"
        },
        "id": "mFASNFceaTcR",
        "outputId": "8835292c-95ed-4169-9dc4-d5d2557867e7"
      },
      "outputs": [
        {
          "output_type": "stream",
          "name": "stdout",
          "text": [
            "/content/yolov5\n"
          ]
        }
      ],
      "source": [
        "%cd /content/yolov5"
      ]
    },
    {
      "cell_type": "code",
      "execution_count": null,
      "metadata": {
        "colab": {
          "base_uri": "https://localhost:8080/"
        },
        "id": "2rUqMm2RbPqR",
        "outputId": "4b046682-7b3e-4cd4-fc5f-a72a45ad8c8b"
      },
      "outputs": [
        {
          "output_type": "stream",
          "name": "stdout",
          "text": [
            "Using torch 1.13.0+cu117 _CudaDeviceProperties(name='Tesla T4', major=7, minor=5, total_memory=15109MB, multi_processor_count=40)\n"
          ]
        }
      ],
      "source": [
        "\n",
        "import torch\n",
        "from IPython.display import Image  # for displaying images\n",
        "\n",
        "\n",
        "print('Using torch %s %s' % (torch.__version__, torch.cuda.get_device_properties(0) if torch.cuda.is_available() else 'CPU'))"
      ]
    },
    {
      "cell_type": "markdown",
      "metadata": {
        "id": "QJRFkVYQl-Uo"
      },
      "source": [
        "## Dataset in COCO for detectron2"
      ]
    },
    {
      "cell_type": "code",
      "execution_count": null,
      "metadata": {
        "id": "sT30eaC1H05B"
      },
      "outputs": [],
      "source": [
        "# !pip install roboflow\n",
        "\n",
        "# from roboflow import Roboflow\n",
        "# rf = Roboflow(api_key=\"Ph1GcHYur3HXcUkDD6YL\")\n",
        "# project = rf.workspace(\"helmet-zsjlu\").project(\"thesis-8lvsk\")\n",
        "# dataset = project.version(1).download(\"coco\")"
      ]
    },
    {
      "cell_type": "markdown",
      "metadata": {
        "id": "66u1UCfmmDNo"
      },
      "source": [
        "## Dataset for yolov7"
      ]
    },
    {
      "cell_type": "code",
      "execution_count": null,
      "metadata": {
        "id": "-y60POW1H12K"
      },
      "outputs": [],
      "source": [
        "# !pip install roboflow\n",
        "\n",
        "# from roboflow import Roboflow\n",
        "# rf = Roboflow(api_key=\"Ph1GcHYur3HXcUkDD6YL\")\n",
        "# project = rf.workspace(\"helmet-zsjlu\").project(\"thesis-8lvsk\")\n",
        "# dataset = project.version(1).download(\"yolov7\")"
      ]
    },
    {
      "cell_type": "code",
      "execution_count": null,
      "metadata": {
        "colab": {
          "base_uri": "https://localhost:8080/",
          "height": 1000
        },
        "id": "EHt4I0p2rO3q",
        "outputId": "d4dcae26-2108-4abf-a46a-4723a873e00b"
      },
      "outputs": [
        {
          "output_type": "stream",
          "name": "stdout",
          "text": [
            "Looking in indexes: https://pypi.org/simple, https://us-python.pkg.dev/colab-wheels/public/simple/\n",
            "Collecting roboflow\n",
            "  Downloading roboflow-0.2.20-py3-none-any.whl (41 kB)\n",
            "\u001b[K     |████████████████████████████████| 41 kB 279 kB/s \n",
            "\u001b[?25hCollecting python-dotenv\n",
            "  Downloading python_dotenv-0.21.0-py3-none-any.whl (18 kB)\n",
            "Requirement already satisfied: tqdm>=4.41.0 in /usr/local/lib/python3.7/dist-packages (from roboflow) (4.64.1)\n",
            "Collecting requests-toolbelt\n",
            "  Downloading requests_toolbelt-0.10.1-py2.py3-none-any.whl (54 kB)\n",
            "\u001b[K     |████████████████████████████████| 54 kB 3.4 MB/s \n",
            "\u001b[?25hRequirement already satisfied: Pillow>=7.1.2 in /usr/local/lib/python3.7/dist-packages (from roboflow) (7.1.2)\n",
            "Collecting pyparsing==2.4.7\n",
            "  Downloading pyparsing-2.4.7-py2.py3-none-any.whl (67 kB)\n",
            "\u001b[K     |████████████████████████████████| 67 kB 7.7 MB/s \n",
            "\u001b[?25hCollecting certifi==2021.5.30\n",
            "  Downloading certifi-2021.5.30-py2.py3-none-any.whl (145 kB)\n",
            "\u001b[K     |████████████████████████████████| 145 kB 56.1 MB/s \n",
            "\u001b[?25hRequirement already satisfied: requests in /usr/local/lib/python3.7/dist-packages (from roboflow) (2.23.0)\n",
            "Requirement already satisfied: six in /usr/local/lib/python3.7/dist-packages (from roboflow) (1.15.0)\n",
            "Collecting cycler==0.10.0\n",
            "  Downloading cycler-0.10.0-py2.py3-none-any.whl (6.5 kB)\n",
            "Requirement already satisfied: glob2 in /usr/local/lib/python3.7/dist-packages (from roboflow) (0.7)\n",
            "Requirement already satisfied: kiwisolver>=1.3.1 in /usr/local/lib/python3.7/dist-packages (from roboflow) (1.4.4)\n",
            "Collecting wget\n",
            "  Downloading wget-3.2.zip (10 kB)\n",
            "Requirement already satisfied: python-dateutil in /usr/local/lib/python3.7/dist-packages (from roboflow) (2.8.2)\n",
            "Requirement already satisfied: idna==2.10 in /usr/local/lib/python3.7/dist-packages (from roboflow) (2.10)\n",
            "Requirement already satisfied: numpy>=1.18.5 in /usr/local/lib/python3.7/dist-packages (from roboflow) (1.21.6)\n",
            "Requirement already satisfied: matplotlib in /usr/local/lib/python3.7/dist-packages (from roboflow) (3.2.2)\n",
            "Requirement already satisfied: PyYAML>=5.3.1 in /usr/local/lib/python3.7/dist-packages (from roboflow) (6.0)\n",
            "Requirement already satisfied: opencv-python-headless>=4.5.1.48 in /usr/local/lib/python3.7/dist-packages (from roboflow) (4.6.0.66)\n",
            "Collecting chardet==4.0.0\n",
            "  Downloading chardet-4.0.0-py2.py3-none-any.whl (178 kB)\n",
            "\u001b[K     |████████████████████████████████| 178 kB 60.7 MB/s \n",
            "\u001b[?25hCollecting urllib3==1.26.6\n",
            "  Downloading urllib3-1.26.6-py2.py3-none-any.whl (138 kB)\n",
            "\u001b[K     |████████████████████████████████| 138 kB 69.0 MB/s \n",
            "\u001b[?25hRequirement already satisfied: typing-extensions in /usr/local/lib/python3.7/dist-packages (from kiwisolver>=1.3.1->roboflow) (4.1.1)\n",
            "Collecting requests\n",
            "  Downloading requests-2.28.1-py3-none-any.whl (62 kB)\n",
            "\u001b[K     |████████████████████████████████| 62 kB 1.8 MB/s \n",
            "\u001b[?25hRequirement already satisfied: charset-normalizer<3,>=2 in /usr/local/lib/python3.7/dist-packages (from requests->roboflow) (2.1.1)\n",
            "Building wheels for collected packages: wget\n",
            "  Building wheel for wget (setup.py) ... \u001b[?25l\u001b[?25hdone\n",
            "  Created wheel for wget: filename=wget-3.2-py3-none-any.whl size=9674 sha256=a2f8e614b3b5dc004906ce2090561443c13ff8eb2fc220772f669cd54d883bb6\n",
            "  Stored in directory: /root/.cache/pip/wheels/a1/b6/7c/0e63e34eb06634181c63adacca38b79ff8f35c37e3c13e3c02\n",
            "Successfully built wget\n",
            "Installing collected packages: urllib3, certifi, requests, pyparsing, cycler, wget, requests-toolbelt, python-dotenv, chardet, roboflow\n",
            "  Attempting uninstall: urllib3\n",
            "    Found existing installation: urllib3 1.24.3\n",
            "    Uninstalling urllib3-1.24.3:\n",
            "      Successfully uninstalled urllib3-1.24.3\n",
            "  Attempting uninstall: certifi\n",
            "    Found existing installation: certifi 2022.9.24\n",
            "    Uninstalling certifi-2022.9.24:\n",
            "      Successfully uninstalled certifi-2022.9.24\n",
            "  Attempting uninstall: requests\n",
            "    Found existing installation: requests 2.23.0\n",
            "    Uninstalling requests-2.23.0:\n",
            "      Successfully uninstalled requests-2.23.0\n",
            "  Attempting uninstall: pyparsing\n",
            "    Found existing installation: pyparsing 3.0.9\n",
            "    Uninstalling pyparsing-3.0.9:\n",
            "      Successfully uninstalled pyparsing-3.0.9\n",
            "  Attempting uninstall: cycler\n",
            "    Found existing installation: cycler 0.11.0\n",
            "    Uninstalling cycler-0.11.0:\n",
            "      Successfully uninstalled cycler-0.11.0\n",
            "  Attempting uninstall: chardet\n",
            "    Found existing installation: chardet 3.0.4\n",
            "    Uninstalling chardet-3.0.4:\n",
            "      Successfully uninstalled chardet-3.0.4\n",
            "\u001b[31mERROR: pip's dependency resolver does not currently take into account all the packages that are installed. This behaviour is the source of the following dependency conflicts.\n",
            "torchtext 0.13.1 requires torch==1.12.1, but you have torch 1.6.0+cu101 which is incompatible.\n",
            "fastai 2.7.10 requires torch<1.14,>=1.7, but you have torch 1.6.0+cu101 which is incompatible.\n",
            "fastai 2.7.10 requires torchvision>=0.8.2, but you have torchvision 0.7.0+cu101 which is incompatible.\u001b[0m\n",
            "Successfully installed certifi-2021.5.30 chardet-4.0.0 cycler-0.10.0 pyparsing-2.4.7 python-dotenv-0.21.0 requests-2.28.1 requests-toolbelt-0.10.1 roboflow-0.2.20 urllib3-1.26.6 wget-3.2\n"
          ]
        },
        {
          "output_type": "display_data",
          "data": {
            "application/vnd.colab-display-data+json": {
              "pip_warning": {
                "packages": [
                  "certifi",
                  "cycler",
                  "pyparsing"
                ]
              }
            }
          },
          "metadata": {}
        },
        {
          "output_type": "stream",
          "name": "stdout",
          "text": [
            "loading Roboflow workspace...\n",
            "loading Roboflow project...\n",
            "Downloading Dataset Version Zip in smallhead-2 to yolov5pytorch: 100% [55939677 / 55939677] bytes\n"
          ]
        },
        {
          "output_type": "stream",
          "name": "stderr",
          "text": [
            "Extracting Dataset Version Zip to smallhead-2 in yolov5pytorch:: 100%|██████████| 1580/1580 [00:01<00:00, 1476.88it/s]\n"
          ]
        }
      ],
      "source": [
        "!pip install roboflow\n",
        "\n",
        "from roboflow import Roboflow\n",
        "rf = Roboflow(api_key=\"Ph1GcHYur3HXcUkDD6YL\")\n",
        "project = rf.workspace(\"helmet-zsjlu\").project(\"smallhead\")\n",
        "dataset = project.version(2).download(\"yolov5\")\n"
      ]
    },
    {
      "cell_type": "markdown",
      "metadata": {
        "id": "R3WdQURpdFs2"
      },
      "source": [
        "### Downloading the data"
      ]
    },
    {
      "cell_type": "code",
      "execution_count": null,
      "metadata": {
        "colab": {
          "base_uri": "https://localhost:8080/",
          "height": 1000
        },
        "id": "QyR7bDkVcz_O",
        "outputId": "4beb5664-8085-4742-a785-1a8542ea2108"
      },
      "outputs": [
        {
          "output_type": "stream",
          "name": "stdout",
          "text": [
            "Looking in indexes: https://pypi.org/simple, https://us-python.pkg.dev/colab-wheels/public/simple/\n",
            "Collecting roboflow\n",
            "  Downloading roboflow-0.2.21-py3-none-any.whl (42 kB)\n",
            "\u001b[K     |████████████████████████████████| 42 kB 896 kB/s \n",
            "\u001b[?25hCollecting cycler==0.10.0\n",
            "  Downloading cycler-0.10.0-py2.py3-none-any.whl (6.5 kB)\n",
            "Collecting chardet==4.0.0\n",
            "  Downloading chardet-4.0.0-py2.py3-none-any.whl (178 kB)\n",
            "\u001b[K     |████████████████████████████████| 178 kB 60.2 MB/s \n",
            "\u001b[?25hRequirement already satisfied: Pillow>=7.1.2 in /usr/local/lib/python3.8/dist-packages (from roboflow) (7.1.2)\n",
            "Requirement already satisfied: opencv-python-headless>=4.5.1.48 in /usr/local/lib/python3.8/dist-packages (from roboflow) (4.6.0.66)\n",
            "Collecting python-dotenv\n",
            "  Downloading python_dotenv-0.21.0-py3-none-any.whl (18 kB)\n",
            "Requirement already satisfied: python-dateutil in /usr/local/lib/python3.8/dist-packages (from roboflow) (2.8.2)\n",
            "Collecting requests-toolbelt\n",
            "  Downloading requests_toolbelt-0.10.1-py2.py3-none-any.whl (54 kB)\n",
            "\u001b[K     |████████████████████████████████| 54 kB 3.3 MB/s \n",
            "\u001b[?25hCollecting urllib3==1.26.6\n",
            "  Downloading urllib3-1.26.6-py2.py3-none-any.whl (138 kB)\n",
            "\u001b[K     |████████████████████████████████| 138 kB 40.7 MB/s \n",
            "\u001b[?25hRequirement already satisfied: tqdm>=4.41.0 in /usr/local/lib/python3.8/dist-packages (from roboflow) (4.64.1)\n",
            "Collecting wget\n",
            "  Downloading wget-3.2.zip (10 kB)\n",
            "Requirement already satisfied: glob2 in /usr/local/lib/python3.8/dist-packages (from roboflow) (0.7)\n",
            "Requirement already satisfied: requests in /usr/local/lib/python3.8/dist-packages (from roboflow) (2.23.0)\n",
            "Collecting pyparsing==2.4.7\n",
            "  Downloading pyparsing-2.4.7-py2.py3-none-any.whl (67 kB)\n",
            "\u001b[K     |████████████████████████████████| 67 kB 6.7 MB/s \n",
            "\u001b[?25hRequirement already satisfied: kiwisolver>=1.3.1 in /usr/local/lib/python3.8/dist-packages (from roboflow) (1.4.4)\n",
            "Requirement already satisfied: matplotlib in /usr/local/lib/python3.8/dist-packages (from roboflow) (3.2.2)\n",
            "Requirement already satisfied: PyYAML>=5.3.1 in /usr/local/lib/python3.8/dist-packages (from roboflow) (6.0)\n",
            "Requirement already satisfied: numpy>=1.18.5 in /usr/local/lib/python3.8/dist-packages (from roboflow) (1.21.6)\n",
            "Collecting certifi==2021.5.30\n",
            "  Downloading certifi-2021.5.30-py2.py3-none-any.whl (145 kB)\n",
            "\u001b[K     |████████████████████████████████| 145 kB 77.7 MB/s \n",
            "\u001b[?25hRequirement already satisfied: idna==2.10 in /usr/local/lib/python3.8/dist-packages (from roboflow) (2.10)\n",
            "Requirement already satisfied: six in /usr/local/lib/python3.8/dist-packages (from roboflow) (1.15.0)\n",
            "Collecting requests\n",
            "  Downloading requests-2.28.1-py3-none-any.whl (62 kB)\n",
            "\u001b[K     |████████████████████████████████| 62 kB 1.6 MB/s \n",
            "\u001b[?25hRequirement already satisfied: charset-normalizer<3,>=2 in /usr/local/lib/python3.8/dist-packages (from requests->roboflow) (2.1.1)\n",
            "Building wheels for collected packages: wget\n",
            "  Building wheel for wget (setup.py) ... \u001b[?25l\u001b[?25hdone\n",
            "  Created wheel for wget: filename=wget-3.2-py3-none-any.whl size=9674 sha256=459f314738168464c8fd06f83a40ed9ee6466a578f899c3b16d4ce7ce9483c3e\n",
            "  Stored in directory: /root/.cache/pip/wheels/bd/a8/c3/3cf2c14a1837a4e04bd98631724e81f33f462d86a1d895fae0\n",
            "Successfully built wget\n",
            "Installing collected packages: urllib3, certifi, requests, pyparsing, cycler, wget, requests-toolbelt, python-dotenv, chardet, roboflow\n",
            "  Attempting uninstall: urllib3\n",
            "    Found existing installation: urllib3 1.24.3\n",
            "    Uninstalling urllib3-1.24.3:\n",
            "      Successfully uninstalled urllib3-1.24.3\n",
            "  Attempting uninstall: certifi\n",
            "    Found existing installation: certifi 2022.9.24\n",
            "    Uninstalling certifi-2022.9.24:\n",
            "      Successfully uninstalled certifi-2022.9.24\n",
            "  Attempting uninstall: requests\n",
            "    Found existing installation: requests 2.23.0\n",
            "    Uninstalling requests-2.23.0:\n",
            "      Successfully uninstalled requests-2.23.0\n",
            "  Attempting uninstall: pyparsing\n",
            "    Found existing installation: pyparsing 3.0.9\n",
            "    Uninstalling pyparsing-3.0.9:\n",
            "      Successfully uninstalled pyparsing-3.0.9\n",
            "  Attempting uninstall: cycler\n",
            "    Found existing installation: cycler 0.11.0\n",
            "    Uninstalling cycler-0.11.0:\n",
            "      Successfully uninstalled cycler-0.11.0\n",
            "  Attempting uninstall: chardet\n",
            "    Found existing installation: chardet 3.0.4\n",
            "    Uninstalling chardet-3.0.4:\n",
            "      Successfully uninstalled chardet-3.0.4\n",
            "\u001b[31mERROR: pip's dependency resolver does not currently take into account all the packages that are installed. This behaviour is the source of the following dependency conflicts.\n",
            "torchtext 0.13.1 requires torch==1.12.1, but you have torch 1.13.0 which is incompatible.\u001b[0m\n",
            "Successfully installed certifi-2021.5.30 chardet-4.0.0 cycler-0.10.0 pyparsing-2.4.7 python-dotenv-0.21.0 requests-2.28.1 requests-toolbelt-0.10.1 roboflow-0.2.21 urllib3-1.26.6 wget-3.2\n"
          ]
        },
        {
          "output_type": "display_data",
          "data": {
            "application/vnd.colab-display-data+json": {
              "pip_warning": {
                "packages": [
                  "certifi",
                  "cycler",
                  "pyparsing"
                ]
              }
            }
          },
          "metadata": {}
        },
        {
          "output_type": "stream",
          "name": "stdout",
          "text": [
            "loading Roboflow workspace...\n",
            "loading Roboflow project...\n",
            "Downloading Dataset Version Zip in thesis-1 to yolov5pytorch: 100% [48962890 / 48962890] bytes\n"
          ]
        },
        {
          "output_type": "stream",
          "name": "stderr",
          "text": [
            "Extracting Dataset Version Zip to thesis-1 in yolov5pytorch:: 100%|██████████| 1382/1382 [00:00<00:00, 1809.03it/s]\n"
          ]
        }
      ],
      "source": [
        "!pip install roboflow\n",
        "\n",
        "from roboflow import Roboflow\n",
        "rf = Roboflow(api_key=\"Ph1GcHYur3HXcUkDD6YL\")\n",
        "project = rf.workspace(\"helmet-zsjlu\").project(\"thesis-8lvsk\")\n",
        "dataset = project.version(1).download(\"yolov5\")"
      ]
    },
    {
      "cell_type": "markdown",
      "metadata": {
        "id": "7yQ2AiKJfhLg"
      },
      "source": [
        "The dataset got downloaded inside the yolov5 folder. \n",
        "data.yaml - /content/yolov5\n",
        "Path to train dataset - /content/yolov5/train \n",
        "\n",
        "Path to test dataset - /content/yolov5/test"
      ]
    },
    {
      "cell_type": "markdown",
      "metadata": {
        "id": "bxXy6UH7f5DT"
      },
      "source": [
        "## Define Model Configuration and Architecture"
      ]
    },
    {
      "cell_type": "markdown",
      "metadata": {
        "id": "q-yoCEXgj5gY"
      },
      "source": [
        "Path to the train and test dataset is not correct. We need to edit it in the next steps"
      ]
    },
    {
      "cell_type": "code",
      "execution_count": null,
      "metadata": {
        "id": "Wjucd98vkMmN"
      },
      "outputs": [],
      "source": [
        "#customize iPython writefile so we can write variables\n",
        "from IPython.core.magic import register_line_cell_magic\n",
        "\n",
        "@register_line_cell_magic\n",
        "def writetemplate(line, cell):\n",
        "    with open(line, 'w') as f:\n",
        "        f.write(cell.format(**globals()))"
      ]
    },
    {
      "cell_type": "code",
      "execution_count": null,
      "metadata": {
        "id": "D1Zysve7kP9O"
      },
      "outputs": [],
      "source": [
        "# Below we are changing the data configuration for right path to the dataset\n",
        "%%writetemplate /content/yolov5/data.yaml\n",
        "train: ./train/images\n",
        "val: ./valid/images\n",
        "\n",
        "nc: 2\n",
        "names: ['With_Helmet','Without_Helmet']\n"
      ]
    },
    {
      "cell_type": "code",
      "execution_count": null,
      "metadata": {
        "colab": {
          "base_uri": "https://localhost:8080/"
        },
        "id": "hFooocmHkh8x",
        "outputId": "dc23cfa9-b8fb-499c-d66e-dbe1f7122c9b"
      },
      "outputs": [
        {
          "output_type": "stream",
          "name": "stdout",
          "text": [
            "train: ./train/images\n",
            "val: ./valid/images\n",
            "\n",
            "nc: 2\n",
            "names: ['With_Helmet','Without_Helmet']\n"
          ]
        }
      ],
      "source": [
        "#Let's check the data.yaml file for confirmation\n",
        "\n",
        "%cat data.yaml"
      ]
    },
    {
      "cell_type": "code",
      "execution_count": null,
      "metadata": {
        "id": "DulGeWGT1DOG"
      },
      "outputs": [],
      "source": [
        "# define number of classes based on YAML\n",
        "# data.yaml contains the information about number of classes and their labels required for this project\n",
        "import yaml\n",
        "with open(\"data.yaml\", 'r') as stream:\n",
        "    num_classes = str(yaml.safe_load(stream)['nc'])"
      ]
    },
    {
      "cell_type": "code",
      "execution_count": null,
      "metadata": {
        "id": "eKgQc4L8I4CQ"
      },
      "outputs": [],
      "source": []
    },
    {
      "cell_type": "code",
      "execution_count": null,
      "metadata": {
        "id": "EK4C1YDZgNtF"
      },
      "outputs": [],
      "source": [
        "with open(r'data.yaml') as file:\n",
        "    # The FullLoader parameter handles the conversion from YAML\n",
        "    # scalar values to Python the dictionary format\n",
        "    labels_list = yaml.load(file, Loader=yaml.FullLoader)\n",
        "    #num_classes =labels_list['nc']\n",
        "    label_names = labels_list['names']"
      ]
    },
    {
      "cell_type": "code",
      "execution_count": null,
      "metadata": {
        "colab": {
          "base_uri": "https://localhost:8080/"
        },
        "id": "6XSepvKYgP5G",
        "outputId": "04738ae4-e1ee-481b-c037-b16d554aad5a"
      },
      "outputs": [
        {
          "output_type": "stream",
          "name": "stdout",
          "text": [
            "Number of Classes are 2, whose labels are ['With_Helmet', 'Without_Helmet'] for this Object Detection project\n"
          ]
        }
      ],
      "source": [
        "print(\"Number of Classes are {}, whose labels are {} for this Object Detection project\".format(num_classes,label_names))"
      ]
    },
    {
      "cell_type": "markdown",
      "source": [
        "# Yaml File modification for the Experiments\n"
      ],
      "metadata": {
        "id": "_7Ncu20luoso"
      }
    },
    {
      "cell_type": "markdown",
      "source": [
        "# Baseline Model"
      ],
      "metadata": {
        "id": "gcLI7NFc7tTt"
      }
    },
    {
      "cell_type": "code",
      "source": [
        "#---base\n",
        "%%writetemplate /content/yolov5/models/custom_yolov5s.yaml\n",
        "nc: 80  # number of classes\n",
        "depth_multiple: 0.33  # model depth multiple\n",
        "width_multiple: 0.50  # layer channel multiple\n",
        "anchors:\n",
        "  - [10,13, 16,30, 33,23]  # P3/8\n",
        "  - [30,61, 62,45, 59,119]  # P4/16\n",
        "  - [116,90, 156,198, 373,326]  # P5/32\n",
        "\n",
        "  # - [24,33, 16,30, 33,23]  # P3/8\n",
        "  # - [87,104, 62,45, 59,119]  # P4/16\n",
        "  # - [215,253, 156,198, 373,326]  # P5/32\n",
        "\n",
        "# YOLOv5 v6.0 backbone\n",
        "backbone:\n",
        "  # [from, number, module, args]\n",
        "  [[-1, 1, Conv, [64, 6, 2, 2]],  # 0-P1/2\n",
        "   [-1, 1, Conv, [128, 3, 2]],  # 1-P2/4\n",
        "   [-1, 3, C3, [128]],\n",
        "   [-1, 1, Conv, [256, 3, 2]],  # 3-P3/8\n",
        "   [-1, 6, C3, [256]],\n",
        "   [-1, 1, Conv, [512, 3, 2]],  # 5-P4/16\n",
        "   [-1, 9, C3, [512]],\n",
        "   [-1, 1, Conv, [1024, 3, 2]],  # 7-P5/32\n",
        "   [-1, 3, C3, [1024]],\n",
        "   [-1, 1, SPPF, [1024, 5]],  # 9\n",
        "  ]\n",
        "\n",
        "# YOLOv5 v6.0 head\n",
        "head:\n",
        "  [[-1, 1, Conv, [512, 1, 1]],\n",
        "   [-1, 1, nn.Upsample, [None, 2, 'nearest']],\n",
        "   [[-1, 6], 1, Concat, [1]],  # cat backbone P4\n",
        "   [-1, 3, C3, [512, False]],  # 13\n",
        "\n",
        "   [-1, 1, Conv, [256, 1, 1]],\n",
        "   [-1, 1, nn.Upsample, [None, 2, 'nearest']],\n",
        "   [[-1, 4], 1, Concat, [1]],  # cat backbone P3\n",
        "   [-1, 3, C3, [256, False]],  # 17 (P3/8-small)\n",
        "\n",
        "   [-1, 1, Conv, [256, 3, 2]],\n",
        "   [[-1, 14], 1, Concat, [1]],  # cat head P4\n",
        "   [-1, 3, C3, [512, False]],  # 20 (P4/16-medium)\n",
        "\n",
        "   [-1, 1, Conv, [512, 3, 2]],\n",
        "   [[-1, 10], 1, Concat, [1]],  # cat head P5\n",
        "   [-1, 3, C3, [1024, False]],  # 23 (P5/32-large)\n",
        "\n",
        "   [[17, 20, 23], 1, Detect, [nc, anchors]],  # Detect(P3, P4, P5)\n",
        "  ]"
      ],
      "metadata": {
        "id": "w0VCGEw77sH9"
      },
      "execution_count": null,
      "outputs": []
    },
    {
      "cell_type": "markdown",
      "source": [
        "# To feed 4 inputs to the Head  ( p2,p3,p4,p5)"
      ],
      "metadata": {
        "id": "-qxAovRT7X3e"
      }
    },
    {
      "cell_type": "code",
      "source": [
        "%%writetemplate /content/yolov5/models/custom_yolov5s.yaml\n",
        "\n",
        "# parameters\n",
        "#\n",
        "nc: {num_classes}  # number of classes  # CHANGED HERE\n",
        "depth_multiple: 0.33  # model depth multiple\n",
        "width_multiple: 0.50  # layer channel multiple\n",
        "\n",
        "# anchors\n",
        "anchors:\n",
        "  - [5,3, 8,15, 15,12]  # P3/8\n",
        "  - [10,13, 16,30, 33,23]  # P3/8\n",
        "  #- [20,23, 32,60, 50,46]  # P3/8\n",
        "  #- [15,18, 20,37, 40,31]  \n",
        "  - [30,61, 62,45, 59,119]  # P4/16\n",
        "  - [116,90, 156,198, 373,326]  # P5/32\n",
        "  #- [58,45, 78,99, 187,163] \n",
        " \n",
        "\n",
        "# YOLOv5 backbone\n",
        "backbone:\n",
        "  # [from, number, module, args]\n",
        "  [[-1, 1, Conv, [64, 6, 2, 2]],  # 0-P1/2\n",
        "   [-1, 1, Conv, [128, 3, 2]],  # 1-P2/4\n",
        "   [-1, 3, C3, [128]],\n",
        "   [-1, 1, Conv, [256, 3, 2]],  # 3-P3/8\n",
        "   [-1, 6, C3, [256]],\n",
        "   [-1, 1, Conv, [512, 3, 2]],  # 5-P4/16\n",
        "   [-1, 9, C3, [512]],\n",
        "   [-1, 1, Conv, [1024, 3, 2]],  # 7-P5/32\n",
        "   [-1, 3, C3TR, [1024]],  # 9 <--- C3TR() Transformer module\n",
        "   [-1, 1, SPPF, [1024, 5]],  # 9\n",
        "  ]\n",
        "\n",
        "# YOLOv5 head\n",
        "head:\n",
        " [[-1, 1, Conv, [512, 1, 1]],\n",
        "   [-1, 1, nn.Upsample, [None, 2, 'nearest']],\n",
        "   [[-1, 6], 1, Concat, [1]],  # cat backbone P4\n",
        "   [-1, 3, C3, [512, False]],  # 13\n",
        "\n",
        "   [-1, 1, Conv, [256, 1, 1]],\n",
        "   [-1, 1, nn.Upsample, [None, 2, 'nearest']],\n",
        "   [[-1, 4], 1, Concat, [1]],  # cat backbone P3\n",
        "   [-1, 3, C3, [256, False]],  # 17 (P3/8-small)\n",
        "\n",
        "   [-1, 1, Conv, [128, 1, 1]],\n",
        "   [-1, 1, nn.Upsample, [None, 2, 'nearest']],\n",
        "   [[-1, 2], 1, Concat, [1]],  # cat backbone P2\n",
        "   [-1, 1, C3, [128, False]],  # 21 (P2/4-xsmall)\n",
        "\n",
        "   [-1, 1, Conv, [128, 3, 2]],\n",
        "   [[-1, 18], 1, Concat, [1]],  # cat head P3\n",
        "   [-1, 3, C3, [256, False]],  # 24 (P3/8-small)\n",
        "\n",
        "   [-1, 1, Conv, [256, 3, 2]],\n",
        "   [[-1, 14, 6], 1, Concat, [1]],  # cat P4 <--- BiFPN change\n",
        "   [-1, 3, C3, [512, False]],  # 27 (P4/16-medium)\n",
        "\n",
        "   [-1, 1, Conv, [512, 3, 2]],\n",
        "   [[-1, 10], 1, Concat, [1]],  # cat head P5\n",
        "   [-1, 3, C3, [1024, False]],  # 30 (P5/32-large)\n",
        "\n",
        "   [[21, 24, 27, 30], 1, Detect, [nc, anchors]],  # Detect(P2, P3, P4, P5)\n",
        "  ]"
      ],
      "metadata": {
        "id": "tWVOj7hTunnI"
      },
      "execution_count": null,
      "outputs": []
    },
    {
      "cell_type": "markdown",
      "source": [
        "# BiFPN"
      ],
      "metadata": {
        "id": "Q36r89yA74o9"
      }
    },
    {
      "cell_type": "code",
      "execution_count": null,
      "metadata": {
        "id": "x71-08y6gkAU"
      },
      "outputs": [],
      "source": [
        "# Below we are changing the configuration so that it becomes compatible to number of classes required in this project\n",
        "#BiFPN\n",
        "%%writetemplate /content/yolov5/models/custom_yolov5s.yaml\n",
        "\n",
        "# parameters\n",
        "nc: {num_classes}  # number of classes  # CHANGED HERE\n",
        "depth_multiple: 0.33  # model depth multiple\n",
        "width_multiple: 0.50  # layer channel multiple\n",
        "\n",
        "# anchors\n",
        "anchors:\n",
        "  - [10,13, 16,30, 33,23]  # P3/8\n",
        "  #- [20,23, 32,60, 50,46]  # P3/8\n",
        "  #- [15,18, 20,37, 40,31]  \n",
        "  - [30,61, 62,45, 59,119]  # P4/16\n",
        "  # [58,45, 78,99, 187,163] \n",
        "  - [116,90, 156,198, 373,326]  # P5/32\n",
        "  \n",
        " \n",
        "\n",
        "# YOLOv5 backbone\n",
        "backbone:\n",
        "  # [from, number, module, args]\n",
        "  [[-1, 1, Conv, [64, 6, 2, 2]],  # 0-P1/2\n",
        "   [-1, 1, Conv, [128, 3, 2]],  # 1-P2/4\n",
        "   [-1, 3, C3, [128]],\n",
        "   [-1, 1, Conv, [256, 3, 2]],  # 3-P3/8\n",
        "   [-1, 6, C3, [256]],\n",
        "   [-1, 1, Conv, [512, 3, 2]],  # 5-P4/16\n",
        "   [-1, 9, C3, [512]],\n",
        "   [-1, 1, Conv, [1024, 3, 2]],  # 7-P5/32\n",
        "   [-1, 3, C3, [1024]],\n",
        "   [-1, 1, SPPF, [1024, 5]],  # 9\n",
        "  ]\n",
        "\n",
        "# YOLOv5 v6.0 BiFPN head\n",
        "head:\n",
        "  [[-1, 1, Conv, [512, 1, 1]],\n",
        "   [-1, 1, nn.Upsample, [None, 2, 'nearest']],\n",
        "   [[-1, 6], 1, Concat, [1]],  # cat backbone P4\n",
        "   [-1, 3, C3, [512, False]],  # 13\n",
        "\n",
        "   [-1, 1, Conv, [256, 1, 1]],\n",
        "   [-1, 1, nn.Upsample, [None, 2, 'nearest']],\n",
        "   [[-1, 4], 1, Concat, [1]],  # cat backbone P3\n",
        "   [-1, 3, C3, [256, False]],  # 17 (P3/8-small)\n",
        "\n",
        "   [-1, 1, Conv, [256, 3, 2]],\n",
        "   [[-1, 14, 6], 1, Concat, [1]],  # cat P4 <--- BiFPN change\n",
        "   [-1, 3, C3, [512, False]],  # 20 (P4/16-medium)\n",
        "\n",
        "   [-1, 1, Conv, [512, 3, 2]],\n",
        "   [[-1, 10], 1, Concat, [1]],  # cat head P5\n",
        "   [-1, 3, C3, [1024, False]],  # 23 (P5/32-large)\n",
        "\n",
        "   [[17, 20, 23], 1, Detect, [nc, anchors]],  # Detect(P3, P4, P5)\n",
        "  ]"
      ]
    },
    {
      "cell_type": "markdown",
      "metadata": {
        "id": "mf5e8_HJgtMY"
      },
      "source": [
        "## Train Custom YOLOv5 Detector\n",
        "\n",
        "### Next, we'll fire off training!¶\n",
        "Here, we are able to pass a number of arguments:\n",
        "\n",
        "* **img:** define input image size\n",
        "* **batch:** determine batch size\n",
        "* **epochs:** define the number of training epochs. \n",
        "* **data:** set the path to our yaml file\n",
        "* **cfg:** specify our model configuration\n",
        "* **weights:** specify a custom path to weights. \n",
        "* **name:** result names\n",
        "* **nosave:** only save the final checkpoint\n",
        "* **cache:** cache images for faster training\n",
        "\n",
        "\n",
        "\n"
      ]
    },
    {
      "cell_type": "code",
      "source": [
        "\n",
        "%%time\n",
        "%cd /content/yolov5/\n",
        "!python  train.py   --img 640 --batch 8  --weights '' --epochs 1000 --data './data.yaml' --cfg ./models/custom_yolov5s.yaml \n",
        "\n",
        " "
      ],
      "metadata": {
        "id": "mu5DxOQ9L70w"
      },
      "execution_count": null,
      "outputs": []
    },
    {
      "cell_type": "markdown",
      "metadata": {
        "id": "Vm8CED0uuNnD"
      },
      "source": [
        "## Evaluate Custom YOLOv5 Detector Performance\n",
        "Training losses and performance metrics are saved to Tensorboard and also to a logfile defined above with the **--name** flag when we train. In our case, we named this `yolov5s_results`. (If given no name, it defaults to `results.txt`.) The results file is plotted as a png after training completes.\n",
        "\n",
        "Partially completed `results.txt` files can be plotted with `from utils.utils import plot_results; plot_results()`"
      ]
    },
    {
      "cell_type": "code",
      "execution_count": null,
      "metadata": {
        "colab": {
          "base_uri": "https://localhost:8080/"
        },
        "id": "4z2ynsEPzL4N",
        "outputId": "c4f191ad-ee90-4849-c401-cc00ddfaaab6"
      },
      "outputs": [
        {
          "name": "stderr",
          "output_type": "stream",
          "text": [
            "UsageError: Line magic function `%kill` not found.\n"
          ]
        }
      ],
      "source": [
        "# Start tensorboard\n",
        "# Launch after you have started training to all the graphs needed for inspection\n",
        "# logs save in the folder \"runs\"\n",
        "%load_ext tensorboard\n",
        "\n",
        "%tensorboard --logdir /content/yolov5/runs"
      ]
    },
    {
      "cell_type": "markdown",
      "metadata": {
        "id": "0b1D1LnywCXC"
      },
      "source": [
        "# Run Inference With Trained Weights\n",
        "Run inference with a pretrained checkpoint on contents of `test/images` folder downloaded from Roboflow."
      ]
    },
    {
      "cell_type": "code",
      "execution_count": null,
      "metadata": {
        "id": "iJ6lwf-7wEoX"
      },
      "outputs": [],
      "source": [
        "# use the best weights!\n",
        "# Final weights will be by-default stored at /content/yolov5/runs/train/exp2/weights/best.pt\n",
        "%cd /content/yolov5/\n",
        "!python detect.py --weights /content/yolov5/runs/train/exp/weights/best.pt --img 640 --conf 0.5 --source /content/yolov5/test/images "
      ]
    },
    {
      "cell_type": "code",
      "execution_count": null,
      "metadata": {
        "id": "1DuUJpEhmzIW",
        "colab": {
          "base_uri": "https://localhost:8080/"
        },
        "outputId": "d79e7edd-3456-4959-dbf9-87af8cf3570f"
      },
      "outputs": [
        {
          "output_type": "stream",
          "name": "stdout",
          "text": [
            "  adding: runs/detect/exp4/ (stored 0%)\n",
            "  adding: runs/detect/exp4/image_from_china-2186-_jpg.rf.50692d92b1c109fadaa8acce328d0bef.jpg (deflated 6%)\n",
            "  adding: runs/detect/exp4/image_from_china-1567-_jpg.rf.8a047e1be1c40c51088be038ddd773d8.jpg (deflated 4%)\n",
            "  adding: runs/detect/exp4/image_from_china-4443-_jpg.rf.26d3607d0ea8c1e7909a20d736028251.jpg (deflated 5%)\n",
            "  adding: runs/detect/exp4/image_from_china-1850-_jpg.rf.050e123b924d5c8c3cd19cf24f5881a1.jpg (deflated 5%)\n",
            "  adding: runs/detect/exp4/image_from_china-838-_jpg.rf.e26334b9da4a2aab34edb38464e19cd9.jpg (deflated 5%)\n",
            "  adding: runs/detect/exp4/image_from_china-560-_jpg.rf.d8f1d6276d221c780350a0a80551caad.jpg (deflated 5%)\n",
            "  adding: runs/detect/exp4/image_from_china-2678-_jpg.rf.3e43e6d2411a40d3cdacbc873a0073fa.jpg (deflated 16%)\n",
            "  adding: runs/detect/exp4/image_from_china-2685-_jpg.rf.f2f74e089df4c3acc0d8dbf93574fb7f.jpg (deflated 6%)\n",
            "  adding: runs/detect/exp4/image_from_china-279-_jpg.rf.a32e0d888c7b80f3ebbb8e25019e2444.jpg (deflated 6%)\n",
            "  adding: runs/detect/exp4/image_from_china-3648-_jpg.rf.04d86a8e95e30c64b1b1c30142465241.jpg (deflated 7%)\n",
            "  adding: runs/detect/exp4/image_from_china-1431-_jpg.rf.0b4d05ae6a1631639f606ac00584d07c.jpg (deflated 6%)\n",
            "  adding: runs/detect/exp4/image_from_china-2684-_jpg.rf.7f7c3a60439e740de97bbcb0c7ca0513.jpg (deflated 6%)\n",
            "  adding: runs/detect/exp4/image_from_china-275-_jpg.rf.637c17cc91407250686abfaf48d9e078.jpg (deflated 4%)\n",
            "  adding: runs/detect/exp4/image_from_china-1405-_jpg.rf.9f5ad4bf6f757d9a91fb3692b1fcbdad.jpg (deflated 3%)\n",
            "  adding: runs/detect/exp4/image_from_china-1851-_jpg.rf.8f01f8adb08c94e42c522e29c9ad9813.jpg (deflated 5%)\n",
            "  adding: runs/detect/exp4/image_from_china-3277-_jpg.rf.3c227e728bad0e432792d9922330e4f4.jpg (deflated 3%)\n",
            "  adding: runs/detect/exp4/image_from_china-794-_jpg.rf.6f76d5b8bc97ac39e5b5bde1f9d3b5cf.jpg (deflated 4%)\n",
            "  adding: runs/detect/exp4/image_from_china-4285-_jpg.rf.5f87a5fb2ef98ff749d4bb96a2040955.jpg (deflated 5%)\n",
            "  adding: runs/detect/exp4/image_from_china-969-_jpg.rf.6833734c551a488bc8032e53a0522069.jpg (deflated 5%)\n",
            "  adding: runs/detect/exp4/image_from_china-1427-_jpg.rf.3104b2b13f783ef5d7b4576770a5b0e4.jpg (deflated 4%)\n",
            "  adding: runs/detect/exp4/image_from_china-2135-_jpg.rf.39710f68f704a3ff6a3a893ca2718ccb.jpg (deflated 7%)\n",
            "  adding: runs/detect/exp4/image_from_china-2772-_jpg.rf.901d6e1eea9660006dfdd9d375653ccc.jpg (deflated 7%)\n",
            "  adding: runs/detect/exp4/image_from_china-3909-_jpg.rf.75614a5b8387fc77ce47afa5b0d0e011.jpg (deflated 5%)\n",
            "  adding: runs/detect/exp4/image_from_china-2074-_jpg.rf.65bc87b675e806f55729eacbd8842023.jpg (deflated 4%)\n",
            "  adding: runs/detect/exp4/image_from_china-1992-_jpg.rf.4e5ade8dc57e24dd3b82fc8c7868db61.jpg (deflated 4%)\n",
            "  adding: runs/detect/exp4/image_from_china-140-_jpg.rf.38baad4a0aa369ad7a1196085f77ebc1.jpg (deflated 5%)\n",
            "  adding: runs/detect/exp4/image_from_china-4300-_jpg.rf.c0cabeba67c938b8bbfa4734df4dc845.jpg (deflated 4%)\n",
            "  adding: runs/detect/exp4/image_from_china-2134-_jpg.rf.92ed3cdaed167ce7fed93b5f3dfbca5c.jpg (deflated 5%)\n",
            "  adding: runs/detect/exp4/image_from_china-3266-_jpg.rf.be3e561f45491ae45cf73d6a4a94ee31.jpg (deflated 3%)\n",
            "  adding: runs/detect/exp4/image_from_china-4391-_jpg.rf.07cbe8188c7d848332b0b18174841813.jpg (deflated 4%)\n",
            "  adding: runs/detect/exp4/image_from_china-2380-_jpg.rf.0a0faa84891cccd12c3870bf098b0c73.jpg (deflated 5%)\n",
            "  adding: runs/detect/exp4/image_from_china-1718-_jpg.rf.7924f6cf8ea87ff74a89dcc9268a7f07.jpg (deflated 7%)\n",
            "  adding: runs/detect/exp4/image_from_china-833-_jpg.rf.17215957cb4c823022bc90dcfab02951.jpg (deflated 8%)\n",
            "  adding: runs/detect/exp4/image_from_china-4250--1-_jpg.rf.47059a2bda8c46e66405456b8eadfc52.jpg (deflated 4%)\n",
            "  adding: runs/detect/exp4/image_from_china-1415-_jpg.rf.faca78dc1559b8584a9549a008001eb2.jpg (deflated 4%)\n",
            "  adding: runs/detect/exp4/image_from_china-848-_jpg.rf.d77f01c86895bcca79bc324ddd947f91.jpg (deflated 5%)\n",
            "  adding: runs/detect/exp4/image_from_china-2757-_jpg.rf.44078a9177a2692fa5d21995a441c461.jpg (deflated 6%)\n",
            "  adding: runs/detect/exp4/image_from_china-1723-_jpg.rf.7b0d9e7dc42d10d16fe31c08ffe1307c.jpg (deflated 4%)\n",
            "  adding: runs/detect/exp4/image_from_china-795-_jpg.rf.96815654a1675fe24ff7f144892d0d18.jpg (deflated 3%)\n",
            "  adding: runs/detect/exp4/image_from_china-4444-_jpg.rf.f20f275fc77b58f5b0e5b3f3e0416e64.jpg (deflated 4%)\n",
            "  adding: runs/detect/exp4/image_from_china-1390-_jpg.rf.3f84011aa7afbef6088a5f1d2a4da1cd.jpg (deflated 5%)\n",
            "  adding: runs/detect/exp4/image_from_china-1322-_jpg.rf.dd5b02970bf13dbb892f044e581332de.jpg (deflated 5%)\n",
            "  adding: runs/detect/exp4/image_from_china-1572-_jpg.rf.f3bd0c53deb0f682e6491c772256756b.jpg (deflated 6%)\n",
            "  adding: runs/detect/exp4/image_from_china-3949-_jpg.rf.40499e60dcce0df5fa605082a841982d.jpg (deflated 4%)\n",
            "  adding: runs/detect/exp4/image_from_china-4422-_jpg.rf.8baf7df5e997260bd444e8cb546b4cab.jpg (deflated 3%)\n",
            "  adding: runs/detect/exp4/image_from_china-432-_jpg.rf.b958f9b38056b88e0fb329afc4974bbc.jpg (deflated 3%)\n",
            "  adding: runs/detect/exp4/image_from_china-4186-_jpg.rf.27a56a09c99673f9d3e384873f12de14.jpg (deflated 6%)\n",
            "  adding: runs/detect/exp4/image_from_china-866-_jpg.rf.c29d03ea6aae8b9c57df5dc8d0ac970b.jpg (deflated 4%)\n",
            "  adding: runs/detect/exp4/image_from_china-1984-_jpg.rf.153749305948a0b403a9caf48ba3b8d3.jpg (deflated 6%)\n",
            "  adding: runs/detect/exp4/image_from_china-677-_jpg.rf.f9e5534401e1d50e305dfc524bc670ae.jpg (deflated 5%)\n",
            "  adding: runs/detect/exp4/image_from_china-4120-_jpg.rf.5202095495209e7d4f628b0fb410843c.jpg (deflated 7%)\n",
            "  adding: runs/detect/exp4/image_from_china-4203-_jpg.rf.30a411423df6828316ce6ff680d953c0.jpg (deflated 5%)\n",
            "  adding: runs/detect/exp4/image_from_china-3294-_jpg.rf.6330a3dc4320fbe6e018302f9a74e38c.jpg (deflated 3%)\n",
            "  adding: runs/detect/exp4/image_from_china-2057-_jpg.rf.82eb3004b63000e0389e91555f26aeea.jpg (deflated 5%)\n",
            "  adding: runs/detect/exp4/image_from_china-4329-_jpg.rf.7f26496eb570da424a24bc7b7018e6b9.jpg (deflated 5%)\n",
            "  adding: runs/detect/exp4/image_from_china-1081-_jpg.rf.c4366c0dbd6af9202d3d97614546f19f.jpg (deflated 5%)\n",
            "  adding: runs/detect/exp4/image_from_china-4114-_jpg.rf.d7f2eb999fe131bf64dc729c11b1bef9.jpg (deflated 6%)\n",
            "  adding: runs/detect/exp4/image_from_china-1195-_jpg.rf.d73b4b17599b68246c41f3287d516598.jpg (deflated 5%)\n",
            "  adding: runs/detect/exp4/image_from_china-1832-_jpg.rf.aadb8e5aca02ebb805b979c9d8cd1cb6.jpg (deflated 5%)\n",
            "  adding: runs/detect/exp4/image_from_china-263-_jpg.rf.5be3bfaa318279b49394a91be02d1df5.jpg (deflated 6%)\n",
            "  adding: runs/detect/exp4/image_from_china-2691-_jpg.rf.f5da3233d535b46bf3f4c7532e10bd65.jpg (deflated 8%)\n",
            "  adding: runs/detect/exp4/image_from_china-959-_jpg.rf.f53c986de124004c75ca527f9080fcd7.jpg (deflated 5%)\n",
            "  adding: runs/detect/exp4/image_from_china-1-_jpg.rf.11d0d3fa4bb9a87ece42543447ca690e.jpg (deflated 4%)\n",
            "  adding: runs/detect/exp4/image_from_china-1250-_jpg.rf.c4a6f365d760fbc86f3c8729a25c6089.jpg (deflated 5%)\n",
            "  adding: runs/detect/exp4/image_from_china-4312-_jpg.rf.bcb223f337952e9ebd26cfe527deacf1.jpg (deflated 5%)\n",
            "  adding: runs/detect/exp4/image_from_china-2735-_jpg.rf.4574111367f36d6684530e6b80db9e80.jpg (deflated 6%)\n",
            "  adding: runs/detect/exp4/image_from_china-181-_jpg.rf.0d469eb5b1e5eb77d58bcd507d6d7368.jpg (deflated 4%)\n",
            "  adding: runs/detect/exp4/image_from_china-261-_jpg.rf.2a36ba94817143cff824348bad20fcbe.jpg (deflated 5%)\n",
            "updating: runs/train/exp4/weights/best.pt (deflated 9%)\n",
            "updating: runs/train/exp4/confusion_matrix.png (deflated 29%)\n",
            "updating: runs/train/exp4/events.out.tfevents.1669222810.ee1da0e9208a.2182.0 (deflated 38%)\n",
            "updating: runs/train/exp4/F1_curve.png (deflated 12%)\n",
            "updating: runs/train/exp4/hyp.yaml (deflated 43%)\n",
            "updating: runs/train/exp4/labels_correlogram.jpg (deflated 28%)\n",
            "updating: runs/train/exp4/labels.jpg (deflated 20%)\n",
            "updating: runs/train/exp4/opt.yaml (deflated 49%)\n",
            "updating: runs/train/exp4/P_curve.png (deflated 10%)\n",
            "updating: runs/train/exp4/PR_curve.png (deflated 13%)\n",
            "updating: runs/train/exp4/R_curve.png (deflated 12%)\n",
            "updating: runs/train/exp4/results.csv (deflated 84%)\n",
            "updating: runs/train/exp4/results.png (deflated 8%)\n",
            "updating: runs/train/exp4/train_batch0.jpg (deflated 3%)\n",
            "updating: runs/train/exp4/train_batch1.jpg (deflated 2%)\n",
            "updating: runs/train/exp4/train_batch2.jpg (deflated 2%)\n",
            "updating: runs/train/exp4/val_batch0_labels.jpg (deflated 5%)\n",
            "updating: runs/train/exp4/val_batch0_pred.jpg (deflated 5%)\n",
            "updating: runs/train/exp4/val_batch1_labels.jpg (deflated 6%)\n",
            "updating: runs/train/exp4/val_batch1_pred.jpg (deflated 6%)\n",
            "updating: runs/train/exp4/val_batch2_labels.jpg (deflated 5%)\n",
            "updating: runs/train/exp4/val_batch2_pred.jpg (deflated 5%)\n",
            "updating: runs/train/exp4/weights/ (stored 0%)\n",
            "updating: runs/train/exp4/weights/best.pt (deflated 9%)\n",
            "updating: runs/train/exp4/weights/last.pt (deflated 9%)\n"
          ]
        }
      ],
      "source": [
        "\n",
        "!zip -r biclassanchor.zip runs/detect/exp/\n",
        "!zip -r biclassanchor-weight-.zip runs/train/exp/weights/best.pt\n",
        "!zip -r biclassanchor-train.zip runs/train/exp/*"
      ]
    },
    {
      "cell_type": "code",
      "source": [
        "from google.colab import files\n",
        "files.download(\"smallmorenohel-det.zip\")"
      ],
      "metadata": {
        "colab": {
          "base_uri": "https://localhost:8080/",
          "height": 17
        },
        "id": "6COlUboeuSlT",
        "outputId": "eb85f9c5-87be-4f45-8dbe-76252b9beb4f"
      },
      "execution_count": null,
      "outputs": [
        {
          "output_type": "display_data",
          "data": {
            "text/plain": [
              "<IPython.core.display.Javascript object>"
            ],
            "application/javascript": [
              "\n",
              "    async function download(id, filename, size) {\n",
              "      if (!google.colab.kernel.accessAllowed) {\n",
              "        return;\n",
              "      }\n",
              "      const div = document.createElement('div');\n",
              "      const label = document.createElement('label');\n",
              "      label.textContent = `Downloading \"${filename}\": `;\n",
              "      div.appendChild(label);\n",
              "      const progress = document.createElement('progress');\n",
              "      progress.max = size;\n",
              "      div.appendChild(progress);\n",
              "      document.body.appendChild(div);\n",
              "\n",
              "      const buffers = [];\n",
              "      let downloaded = 0;\n",
              "\n",
              "      const channel = await google.colab.kernel.comms.open(id);\n",
              "      // Send a message to notify the kernel that we're ready.\n",
              "      channel.send({})\n",
              "\n",
              "      for await (const message of channel.messages) {\n",
              "        // Send a message to notify the kernel that we're ready.\n",
              "        channel.send({})\n",
              "        if (message.buffers) {\n",
              "          for (const buffer of message.buffers) {\n",
              "            buffers.push(buffer);\n",
              "            downloaded += buffer.byteLength;\n",
              "            progress.value = downloaded;\n",
              "          }\n",
              "        }\n",
              "      }\n",
              "      const blob = new Blob(buffers, {type: 'application/binary'});\n",
              "      const a = document.createElement('a');\n",
              "      a.href = window.URL.createObjectURL(blob);\n",
              "      a.download = filename;\n",
              "      div.appendChild(a);\n",
              "      a.click();\n",
              "      div.remove();\n",
              "    }\n",
              "  "
            ]
          },
          "metadata": {}
        },
        {
          "output_type": "display_data",
          "data": {
            "text/plain": [
              "<IPython.core.display.Javascript object>"
            ],
            "application/javascript": [
              "download(\"download_07402d27-1675-4b1c-b863-a84718abc0fb\", \"smallmorenohel-det.zip\", 14915539)"
            ]
          },
          "metadata": {}
        }
      ]
    },
    {
      "cell_type": "code",
      "source": [
        "files.download(\"smallmorenohel-train.zip\")"
      ],
      "metadata": {
        "colab": {
          "base_uri": "https://localhost:8080/",
          "height": 17
        },
        "id": "_GdojYcEuX1M",
        "outputId": "28e305a8-05be-4caa-87e0-ae4825c68c1c"
      },
      "execution_count": null,
      "outputs": [
        {
          "output_type": "display_data",
          "data": {
            "text/plain": [
              "<IPython.core.display.Javascript object>"
            ],
            "application/javascript": [
              "\n",
              "    async function download(id, filename, size) {\n",
              "      if (!google.colab.kernel.accessAllowed) {\n",
              "        return;\n",
              "      }\n",
              "      const div = document.createElement('div');\n",
              "      const label = document.createElement('label');\n",
              "      label.textContent = `Downloading \"${filename}\": `;\n",
              "      div.appendChild(label);\n",
              "      const progress = document.createElement('progress');\n",
              "      progress.max = size;\n",
              "      div.appendChild(progress);\n",
              "      document.body.appendChild(div);\n",
              "\n",
              "      const buffers = [];\n",
              "      let downloaded = 0;\n",
              "\n",
              "      const channel = await google.colab.kernel.comms.open(id);\n",
              "      // Send a message to notify the kernel that we're ready.\n",
              "      channel.send({})\n",
              "\n",
              "      for await (const message of channel.messages) {\n",
              "        // Send a message to notify the kernel that we're ready.\n",
              "        channel.send({})\n",
              "        if (message.buffers) {\n",
              "          for (const buffer of message.buffers) {\n",
              "            buffers.push(buffer);\n",
              "            downloaded += buffer.byteLength;\n",
              "            progress.value = downloaded;\n",
              "          }\n",
              "        }\n",
              "      }\n",
              "      const blob = new Blob(buffers, {type: 'application/binary'});\n",
              "      const a = document.createElement('a');\n",
              "      a.href = window.URL.createObjectURL(blob);\n",
              "      a.download = filename;\n",
              "      div.appendChild(a);\n",
              "      a.click();\n",
              "      div.remove();\n",
              "    }\n",
              "  "
            ]
          },
          "metadata": {}
        },
        {
          "output_type": "display_data",
          "data": {
            "text/plain": [
              "<IPython.core.display.Javascript object>"
            ],
            "application/javascript": [
              "download(\"download_4a02075c-7f67-43b1-a599-868ff475049d\", \"smallmorenohel-train.zip\", 34340364)"
            ]
          },
          "metadata": {}
        }
      ]
    },
    {
      "cell_type": "code",
      "source": [
        "files.download(\"smallmorenohel-weight-.zip\")"
      ],
      "metadata": {
        "colab": {
          "base_uri": "https://localhost:8080/",
          "height": 17
        },
        "id": "zFurOo9CuboL",
        "outputId": "cc85e9f6-21d2-4c28-b0f3-badcfad4f989"
      },
      "execution_count": null,
      "outputs": [
        {
          "output_type": "display_data",
          "data": {
            "text/plain": [
              "<IPython.core.display.Javascript object>"
            ],
            "application/javascript": [
              "\n",
              "    async function download(id, filename, size) {\n",
              "      if (!google.colab.kernel.accessAllowed) {\n",
              "        return;\n",
              "      }\n",
              "      const div = document.createElement('div');\n",
              "      const label = document.createElement('label');\n",
              "      label.textContent = `Downloading \"${filename}\": `;\n",
              "      div.appendChild(label);\n",
              "      const progress = document.createElement('progress');\n",
              "      progress.max = size;\n",
              "      div.appendChild(progress);\n",
              "      document.body.appendChild(div);\n",
              "\n",
              "      const buffers = [];\n",
              "      let downloaded = 0;\n",
              "\n",
              "      const channel = await google.colab.kernel.comms.open(id);\n",
              "      // Send a message to notify the kernel that we're ready.\n",
              "      channel.send({})\n",
              "\n",
              "      for await (const message of channel.messages) {\n",
              "        // Send a message to notify the kernel that we're ready.\n",
              "        channel.send({})\n",
              "        if (message.buffers) {\n",
              "          for (const buffer of message.buffers) {\n",
              "            buffers.push(buffer);\n",
              "            downloaded += buffer.byteLength;\n",
              "            progress.value = downloaded;\n",
              "          }\n",
              "        }\n",
              "      }\n",
              "      const blob = new Blob(buffers, {type: 'application/binary'});\n",
              "      const a = document.createElement('a');\n",
              "      a.href = window.URL.createObjectURL(blob);\n",
              "      a.download = filename;\n",
              "      div.appendChild(a);\n",
              "      a.click();\n",
              "      div.remove();\n",
              "    }\n",
              "  "
            ]
          },
          "metadata": {}
        },
        {
          "output_type": "display_data",
          "data": {
            "text/plain": [
              "<IPython.core.display.Javascript object>"
            ],
            "application/javascript": [
              "download(\"download_f99a65cb-b78c-4c88-b7c9-8cfee7ff7a5e\", \"smallmorenohel-weight-.zip\", 13442554)"
            ]
          },
          "metadata": {}
        }
      ]
    },
    {
      "cell_type": "code",
      "execution_count": null,
      "metadata": {
        "id": "YV8P1ZsvnBai",
        "colab": {
          "base_uri": "https://localhost:8080/",
          "height": 69
        },
        "outputId": "1c4a4552-dc1c-4957-e310-bfdab44e306c"
      },
      "outputs": [
        {
          "output_type": "display_data",
          "data": {
            "text/plain": [
              "<IPython.core.display.Javascript object>"
            ],
            "application/javascript": [
              "\n",
              "    async function download(id, filename, size) {\n",
              "      if (!google.colab.kernel.accessAllowed) {\n",
              "        return;\n",
              "      }\n",
              "      const div = document.createElement('div');\n",
              "      const label = document.createElement('label');\n",
              "      label.textContent = `Downloading \"${filename}\": `;\n",
              "      div.appendChild(label);\n",
              "      const progress = document.createElement('progress');\n",
              "      progress.max = size;\n",
              "      div.appendChild(progress);\n",
              "      document.body.appendChild(div);\n",
              "\n",
              "      const buffers = [];\n",
              "      let downloaded = 0;\n",
              "\n",
              "      const channel = await google.colab.kernel.comms.open(id);\n",
              "      // Send a message to notify the kernel that we're ready.\n",
              "      channel.send({})\n",
              "\n",
              "      for await (const message of channel.messages) {\n",
              "        // Send a message to notify the kernel that we're ready.\n",
              "        channel.send({})\n",
              "        if (message.buffers) {\n",
              "          for (const buffer of message.buffers) {\n",
              "            buffers.push(buffer);\n",
              "            downloaded += buffer.byteLength;\n",
              "            progress.value = downloaded;\n",
              "          }\n",
              "        }\n",
              "      }\n",
              "      const blob = new Blob(buffers, {type: 'application/binary'});\n",
              "      const a = document.createElement('a');\n",
              "      a.href = window.URL.createObjectURL(blob);\n",
              "      a.download = filename;\n",
              "      div.appendChild(a);\n",
              "      a.click();\n",
              "      div.remove();\n",
              "    }\n",
              "  "
            ]
          },
          "metadata": {}
        },
        {
          "output_type": "display_data",
          "data": {
            "text/plain": [
              "<IPython.core.display.Javascript object>"
            ],
            "application/javascript": [
              "download(\"download_93c34f1c-2a63-4412-8a06-a0ac70d2f7ac\", \"sholder-p1r1map8-weight.zip\", 13440472)"
            ]
          },
          "metadata": {}
        },
        {
          "output_type": "display_data",
          "data": {
            "text/plain": [
              "<IPython.core.display.Javascript object>"
            ],
            "application/javascript": [
              "\n",
              "    async function download(id, filename, size) {\n",
              "      if (!google.colab.kernel.accessAllowed) {\n",
              "        return;\n",
              "      }\n",
              "      const div = document.createElement('div');\n",
              "      const label = document.createElement('label');\n",
              "      label.textContent = `Downloading \"${filename}\": `;\n",
              "      div.appendChild(label);\n",
              "      const progress = document.createElement('progress');\n",
              "      progress.max = size;\n",
              "      div.appendChild(progress);\n",
              "      document.body.appendChild(div);\n",
              "\n",
              "      const buffers = [];\n",
              "      let downloaded = 0;\n",
              "\n",
              "      const channel = await google.colab.kernel.comms.open(id);\n",
              "      // Send a message to notify the kernel that we're ready.\n",
              "      channel.send({})\n",
              "\n",
              "      for await (const message of channel.messages) {\n",
              "        // Send a message to notify the kernel that we're ready.\n",
              "        channel.send({})\n",
              "        if (message.buffers) {\n",
              "          for (const buffer of message.buffers) {\n",
              "            buffers.push(buffer);\n",
              "            downloaded += buffer.byteLength;\n",
              "            progress.value = downloaded;\n",
              "          }\n",
              "        }\n",
              "      }\n",
              "      const blob = new Blob(buffers, {type: 'application/binary'});\n",
              "      const a = document.createElement('a');\n",
              "      a.href = window.URL.createObjectURL(blob);\n",
              "      a.download = filename;\n",
              "      div.appendChild(a);\n",
              "      a.click();\n",
              "      div.remove();\n",
              "    }\n",
              "  "
            ]
          },
          "metadata": {}
        },
        {
          "output_type": "display_data",
          "data": {
            "text/plain": [
              "<IPython.core.display.Javascript object>"
            ],
            "application/javascript": [
              "download(\"download_628c6bd9-babd-4b1b-a026-62b215e0b82d\", \"sholder-p1r1map8-train.zip\", 35107932)"
            ]
          },
          "metadata": {}
        },
        {
          "output_type": "display_data",
          "data": {
            "text/plain": [
              "<IPython.core.display.Javascript object>"
            ],
            "application/javascript": [
              "\n",
              "    async function download(id, filename, size) {\n",
              "      if (!google.colab.kernel.accessAllowed) {\n",
              "        return;\n",
              "      }\n",
              "      const div = document.createElement('div');\n",
              "      const label = document.createElement('label');\n",
              "      label.textContent = `Downloading \"${filename}\": `;\n",
              "      div.appendChild(label);\n",
              "      const progress = document.createElement('progress');\n",
              "      progress.max = size;\n",
              "      div.appendChild(progress);\n",
              "      document.body.appendChild(div);\n",
              "\n",
              "      const buffers = [];\n",
              "      let downloaded = 0;\n",
              "\n",
              "      const channel = await google.colab.kernel.comms.open(id);\n",
              "      // Send a message to notify the kernel that we're ready.\n",
              "      channel.send({})\n",
              "\n",
              "      for await (const message of channel.messages) {\n",
              "        // Send a message to notify the kernel that we're ready.\n",
              "        channel.send({})\n",
              "        if (message.buffers) {\n",
              "          for (const buffer of message.buffers) {\n",
              "            buffers.push(buffer);\n",
              "            downloaded += buffer.byteLength;\n",
              "            progress.value = downloaded;\n",
              "          }\n",
              "        }\n",
              "      }\n",
              "      const blob = new Blob(buffers, {type: 'application/binary'});\n",
              "      const a = document.createElement('a');\n",
              "      a.href = window.URL.createObjectURL(blob);\n",
              "      a.download = filename;\n",
              "      div.appendChild(a);\n",
              "      a.click();\n",
              "      div.remove();\n",
              "    }\n",
              "  "
            ]
          },
          "metadata": {}
        },
        {
          "output_type": "display_data",
          "data": {
            "text/plain": [
              "<IPython.core.display.Javascript object>"
            ],
            "application/javascript": [
              "download(\"download_233a4436-a581-4d26-aee3-4df15f74f9b1\", \"sholder-p1r1map8-det.zip\", 9295772)"
            ]
          },
          "metadata": {}
        }
      ],
      "source": [
        "from google.colab import files\n",
        "\n",
        "files.download('sholder-p1r1map8-weight.zip')\n",
        "files.download('sholder-p1r1map8-train.zip')\n",
        "files.download('sholder-p1r1map8-det.zip')"
      ]
    },
    {
      "cell_type": "code",
      "execution_count": null,
      "metadata": {
        "colab": {
          "base_uri": "https://localhost:8080/"
        },
        "id": "sH48WxDzXN8m",
        "outputId": "6b78329e-ad22-4f11-b24d-ddc5ba28d67b"
      },
      "outputs": [
        {
          "name": "stdout",
          "output_type": "stream",
          "text": [
            "  adding: runs/train/exp/weights/best.pt (deflated 10%)\n",
            "  adding: runs/train/exp/confusion_matrix.png (deflated 29%)\n",
            "  adding: runs/train/exp/events.out.tfevents.1668868039.a5cec9c7f185.359.0 (deflated 41%)\n",
            "  adding: runs/train/exp/F1_curve.png (deflated 12%)\n",
            "  adding: runs/train/exp/hyp.yaml (deflated 45%)\n",
            "  adding: runs/train/exp/labels_correlogram.jpg (deflated 28%)\n",
            "  adding: runs/train/exp/labels.jpg (deflated 20%)\n",
            "  adding: runs/train/exp/opt.yaml (deflated 49%)\n",
            "  adding: runs/train/exp/P_curve.png (deflated 10%)\n",
            "  adding: runs/train/exp/PR_curve.png (deflated 13%)\n",
            "  adding: runs/train/exp/R_curve.png (deflated 12%)\n",
            "  adding: runs/train/exp/results.csv (deflated 84%)\n",
            "  adding: runs/train/exp/results.png (deflated 8%)\n",
            "  adding: runs/train/exp/train_batch0.jpg (deflated 2%)\n",
            "  adding: runs/train/exp/train_batch1.jpg (deflated 3%)\n",
            "  adding: runs/train/exp/train_batch2.jpg (deflated 3%)\n",
            "  adding: runs/train/exp/val_batch0_labels.jpg (deflated 5%)\n",
            "  adding: runs/train/exp/val_batch0_pred.jpg (deflated 5%)\n",
            "  adding: runs/train/exp/val_batch1_labels.jpg (deflated 6%)\n",
            "  adding: runs/train/exp/val_batch1_pred.jpg (deflated 6%)\n",
            "  adding: runs/train/exp/val_batch2_labels.jpg (deflated 5%)\n",
            "  adding: runs/train/exp/val_batch2_pred.jpg (deflated 4%)\n",
            "  adding: runs/train/exp/weights/ (stored 0%)\n",
            "  adding: runs/train/exp/weights/best.pt (deflated 10%)\n",
            "  adding: runs/train/exp/weights/last.pt (deflated 10%)\n",
            "  adding: runs/detect/exp/ (stored 0%)\n",
            "  adding: runs/detect/exp/image_from_china-4250--1-_jpg.rf.47059a2bda8c46e66405456b8eadfc52.jpg (deflated 4%)\n",
            "  adding: runs/detect/exp/image_from_china-4186-_jpg.rf.27a56a09c99673f9d3e384873f12de14.jpg (deflated 5%)\n",
            "  adding: runs/detect/exp/image_from_china-4203-_jpg.rf.30a411423df6828316ce6ff680d953c0.jpg (deflated 5%)\n",
            "  adding: runs/detect/exp/image_from_china-3648-_jpg.rf.04d86a8e95e30c64b1b1c30142465241.jpg (deflated 7%)\n",
            "  adding: runs/detect/exp/image_from_china-1390-_jpg.rf.3f84011aa7afbef6088a5f1d2a4da1cd.jpg (deflated 5%)\n",
            "  adding: runs/detect/exp/image_from_china-1718-_jpg.rf.7924f6cf8ea87ff74a89dcc9268a7f07.jpg (deflated 7%)\n",
            "  adding: runs/detect/exp/image_from_china-1250-_jpg.rf.c4a6f365d760fbc86f3c8729a25c6089.jpg (deflated 5%)\n",
            "  adding: runs/detect/exp/image_from_china-2678-_jpg.rf.3e43e6d2411a40d3cdacbc873a0073fa.jpg (deflated 16%)\n",
            "  adding: runs/detect/exp/image_from_china-4300-_jpg.rf.c0cabeba67c938b8bbfa4734df4dc845.jpg (deflated 4%)\n",
            "  adding: runs/detect/exp/image_from_china-794-_jpg.rf.6f76d5b8bc97ac39e5b5bde1f9d3b5cf.jpg (deflated 5%)\n",
            "  adding: runs/detect/exp/image_from_china-3277-_jpg.rf.3c227e728bad0e432792d9922330e4f4.jpg (deflated 3%)\n",
            "  adding: runs/detect/exp/image_from_china-560-_jpg.rf.d8f1d6276d221c780350a0a80551caad.jpg (deflated 6%)\n",
            "  adding: runs/detect/exp/image_from_china-4312-_jpg.rf.bcb223f337952e9ebd26cfe527deacf1.jpg (deflated 6%)\n",
            "  adding: runs/detect/exp/image_from_china-4120-_jpg.rf.5202095495209e7d4f628b0fb410843c.jpg (deflated 7%)\n",
            "  adding: runs/detect/exp/image_from_china-795-_jpg.rf.96815654a1675fe24ff7f144892d0d18.jpg (deflated 3%)\n",
            "  adding: runs/detect/exp/image_from_china-838-_jpg.rf.e26334b9da4a2aab34edb38464e19cd9.jpg (deflated 5%)\n",
            "  adding: runs/detect/exp/image_from_china-1415-_jpg.rf.faca78dc1559b8584a9549a008001eb2.jpg (deflated 5%)\n",
            "  adding: runs/detect/exp/image_from_china-4444-_jpg.rf.f20f275fc77b58f5b0e5b3f3e0416e64.jpg (deflated 4%)\n",
            "  adding: runs/detect/exp/image_from_china-1723-_jpg.rf.7b0d9e7dc42d10d16fe31c08ffe1307c.jpg (deflated 5%)\n",
            "  adding: runs/detect/exp/image_from_china-848-_jpg.rf.d77f01c86895bcca79bc324ddd947f91.jpg (deflated 5%)\n",
            "  adding: runs/detect/exp/image_from_china-1322-_jpg.rf.dd5b02970bf13dbb892f044e581332de.jpg (deflated 5%)\n",
            "  adding: runs/detect/exp/image_from_china-3266-_jpg.rf.be3e561f45491ae45cf73d6a4a94ee31.jpg (deflated 3%)\n",
            "  adding: runs/detect/exp/image_from_china-2772-_jpg.rf.901d6e1eea9660006dfdd9d375653ccc.jpg (deflated 6%)\n",
            "  adding: runs/detect/exp/image_from_china-1431-_jpg.rf.0b4d05ae6a1631639f606ac00584d07c.jpg (deflated 6%)\n",
            "  adding: runs/detect/exp/image_from_china-2134-_jpg.rf.92ed3cdaed167ce7fed93b5f3dfbca5c.jpg (deflated 5%)\n",
            "  adding: runs/detect/exp/image_from_china-1195-_jpg.rf.d73b4b17599b68246c41f3287d516598.jpg (deflated 5%)\n",
            "  adding: runs/detect/exp/image_from_china-1992-_jpg.rf.4e5ade8dc57e24dd3b82fc8c7868db61.jpg (deflated 4%)\n",
            "  adding: runs/detect/exp/image_from_china-1984-_jpg.rf.153749305948a0b403a9caf48ba3b8d3.jpg (deflated 6%)\n",
            "  adding: runs/detect/exp/image_from_china-432-_jpg.rf.b958f9b38056b88e0fb329afc4974bbc.jpg (deflated 4%)\n",
            "  adding: runs/detect/exp/image_from_china-866-_jpg.rf.c29d03ea6aae8b9c57df5dc8d0ac970b.jpg (deflated 4%)\n",
            "  adding: runs/detect/exp/image_from_china-3949-_jpg.rf.40499e60dcce0df5fa605082a841982d.jpg (deflated 4%)\n",
            "  adding: runs/detect/exp/image_from_china-2757-_jpg.rf.44078a9177a2692fa5d21995a441c461.jpg (deflated 6%)\n",
            "  adding: runs/detect/exp/image_from_china-1832-_jpg.rf.aadb8e5aca02ebb805b979c9d8cd1cb6.jpg (deflated 5%)\n",
            "  adding: runs/detect/exp/image_from_china-2380-_jpg.rf.0a0faa84891cccd12c3870bf098b0c73.jpg (deflated 5%)\n",
            "  adding: runs/detect/exp/image_from_china-181-_jpg.rf.0d469eb5b1e5eb77d58bcd507d6d7368.jpg (deflated 4%)\n",
            "  adding: runs/detect/exp/image_from_china-1081-_jpg.rf.c4366c0dbd6af9202d3d97614546f19f.jpg (deflated 5%)\n",
            "  adding: runs/detect/exp/image_from_china-1851-_jpg.rf.8f01f8adb08c94e42c522e29c9ad9813.jpg (deflated 5%)\n",
            "  adding: runs/detect/exp/image_from_china-3909-_jpg.rf.75614a5b8387fc77ce47afa5b0d0e011.jpg (deflated 6%)\n",
            "  adding: runs/detect/exp/image_from_china-3294-_jpg.rf.6330a3dc4320fbe6e018302f9a74e38c.jpg (deflated 4%)\n",
            "  adding: runs/detect/exp/image_from_china-261-_jpg.rf.2a36ba94817143cff824348bad20fcbe.jpg (deflated 5%)\n",
            "  adding: runs/detect/exp/image_from_china-2074-_jpg.rf.65bc87b675e806f55729eacbd8842023.jpg (deflated 4%)\n",
            "  adding: runs/detect/exp/image_from_china-1405-_jpg.rf.9f5ad4bf6f757d9a91fb3692b1fcbdad.jpg (deflated 4%)\n",
            "  adding: runs/detect/exp/image_from_china-2135-_jpg.rf.39710f68f704a3ff6a3a893ca2718ccb.jpg (deflated 7%)\n",
            "  adding: runs/detect/exp/image_from_china-959-_jpg.rf.f53c986de124004c75ca527f9080fcd7.jpg (deflated 5%)\n",
            "  adding: runs/detect/exp/image_from_china-1567-_jpg.rf.8a047e1be1c40c51088be038ddd773d8.jpg (deflated 4%)\n",
            "  adding: runs/detect/exp/image_from_china-279-_jpg.rf.a32e0d888c7b80f3ebbb8e25019e2444.jpg (deflated 5%)\n",
            "  adding: runs/detect/exp/image_from_china-2057-_jpg.rf.82eb3004b63000e0389e91555f26aeea.jpg (deflated 5%)\n",
            "  adding: runs/detect/exp/image_from_china-4114-_jpg.rf.d7f2eb999fe131bf64dc729c11b1bef9.jpg (deflated 6%)\n",
            "  adding: runs/detect/exp/image_from_china-140-_jpg.rf.38baad4a0aa369ad7a1196085f77ebc1.jpg (deflated 5%)\n",
            "  adding: runs/detect/exp/image_from_china-4329-_jpg.rf.7f26496eb570da424a24bc7b7018e6b9.jpg (deflated 5%)\n",
            "  adding: runs/detect/exp/image_from_china-677-_jpg.rf.f9e5534401e1d50e305dfc524bc670ae.jpg (deflated 5%)\n",
            "  adding: runs/detect/exp/image_from_china-1-_jpg.rf.11d0d3fa4bb9a87ece42543447ca690e.jpg (deflated 4%)\n",
            "  adding: runs/detect/exp/image_from_china-1850-_jpg.rf.050e123b924d5c8c3cd19cf24f5881a1.jpg (deflated 5%)\n",
            "  adding: runs/detect/exp/image_from_china-275-_jpg.rf.637c17cc91407250686abfaf48d9e078.jpg (deflated 4%)\n",
            "  adding: runs/detect/exp/image_from_china-1572-_jpg.rf.f3bd0c53deb0f682e6491c772256756b.jpg (deflated 6%)\n",
            "  adding: runs/detect/exp/image_from_china-1427-_jpg.rf.3104b2b13f783ef5d7b4576770a5b0e4.jpg (deflated 5%)\n",
            "  adding: runs/detect/exp/image_from_china-263-_jpg.rf.5be3bfaa318279b49394a91be02d1df5.jpg (deflated 6%)\n",
            "  adding: runs/detect/exp/image_from_china-4422-_jpg.rf.8baf7df5e997260bd444e8cb546b4cab.jpg (deflated 4%)\n",
            "  adding: runs/detect/exp/image_from_china-969-_jpg.rf.6833734c551a488bc8032e53a0522069.jpg (deflated 5%)\n",
            "  adding: runs/detect/exp/image_from_china-833-_jpg.rf.17215957cb4c823022bc90dcfab02951.jpg (deflated 8%)\n",
            "  adding: runs/detect/exp/image_from_china-2685-_jpg.rf.f2f74e089df4c3acc0d8dbf93574fb7f.jpg (deflated 6%)\n",
            "  adding: runs/detect/exp/image_from_china-2186-_jpg.rf.50692d92b1c109fadaa8acce328d0bef.jpg (deflated 5%)\n",
            "  adding: runs/detect/exp/image_from_china-2735-_jpg.rf.4574111367f36d6684530e6b80db9e80.jpg (deflated 6%)\n",
            "  adding: runs/detect/exp/image_from_china-4391-_jpg.rf.07cbe8188c7d848332b0b18174841813.jpg (deflated 5%)\n",
            "  adding: runs/detect/exp/image_from_china-4443-_jpg.rf.26d3607d0ea8c1e7909a20d736028251.jpg (deflated 4%)\n",
            "  adding: runs/detect/exp/image_from_china-2691-_jpg.rf.f5da3233d535b46bf3f4c7532e10bd65.jpg (deflated 8%)\n",
            "  adding: runs/detect/exp/image_from_china-2684-_jpg.rf.7f7c3a60439e740de97bbcb0c7ca0513.jpg (deflated 6%)\n",
            "  adding: runs/detect/exp/image_from_china-4285-_jpg.rf.5f87a5fb2ef98ff749d4bb96a2040955.jpg (deflated 5%)\n"
          ]
        }
      ],
      "source": [
        "\n",
        "# !zip -r smallhead-morenohel-weight.zip runs/train/exp2/weights/best.pt\n",
        "# !zip -r smallhead-morenohel.zip runs/train/exp2/*\n",
        "# !zip -r smallhead-morenohel-det1.zip runs/detect/exp2/"
      ]
    },
    {
      "cell_type": "code",
      "execution_count": null,
      "metadata": {
        "colab": {
          "base_uri": "https://localhost:8080/",
          "height": 17
        },
        "id": "DlINvLBngjQl",
        "outputId": "702142f4-2b6f-4aa6-9ce6-e0f07e4c66bf"
      },
      "outputs": [
        {
          "data": {
            "application/javascript": [
              "\n",
              "    async function download(id, filename, size) {\n",
              "      if (!google.colab.kernel.accessAllowed) {\n",
              "        return;\n",
              "      }\n",
              "      const div = document.createElement('div');\n",
              "      const label = document.createElement('label');\n",
              "      label.textContent = `Downloading \"${filename}\": `;\n",
              "      div.appendChild(label);\n",
              "      const progress = document.createElement('progress');\n",
              "      progress.max = size;\n",
              "      div.appendChild(progress);\n",
              "      document.body.appendChild(div);\n",
              "\n",
              "      const buffers = [];\n",
              "      let downloaded = 0;\n",
              "\n",
              "      const channel = await google.colab.kernel.comms.open(id);\n",
              "      // Send a message to notify the kernel that we're ready.\n",
              "      channel.send({})\n",
              "\n",
              "      for await (const message of channel.messages) {\n",
              "        // Send a message to notify the kernel that we're ready.\n",
              "        channel.send({})\n",
              "        if (message.buffers) {\n",
              "          for (const buffer of message.buffers) {\n",
              "            buffers.push(buffer);\n",
              "            downloaded += buffer.byteLength;\n",
              "            progress.value = downloaded;\n",
              "          }\n",
              "        }\n",
              "      }\n",
              "      const blob = new Blob(buffers, {type: 'application/binary'});\n",
              "      const a = document.createElement('a');\n",
              "      a.href = window.URL.createObjectURL(blob);\n",
              "      a.download = filename;\n",
              "      div.appendChild(a);\n",
              "      a.click();\n",
              "      div.remove();\n",
              "    }\n",
              "  "
            ],
            "text/plain": [
              "<IPython.core.display.Javascript object>"
            ]
          },
          "metadata": {},
          "output_type": "display_data"
        },
        {
          "data": {
            "application/javascript": [
              "download(\"download_b366acc1-dd04-4def-a955-cdcfe0f4ee4c\", \"v5-morenohel-weight.zip\", 13441858)"
            ],
            "text/plain": [
              "<IPython.core.display.Javascript object>"
            ]
          },
          "metadata": {},
          "output_type": "display_data"
        },
        {
          "data": {
            "application/javascript": [
              "\n",
              "    async function download(id, filename, size) {\n",
              "      if (!google.colab.kernel.accessAllowed) {\n",
              "        return;\n",
              "      }\n",
              "      const div = document.createElement('div');\n",
              "      const label = document.createElement('label');\n",
              "      label.textContent = `Downloading \"${filename}\": `;\n",
              "      div.appendChild(label);\n",
              "      const progress = document.createElement('progress');\n",
              "      progress.max = size;\n",
              "      div.appendChild(progress);\n",
              "      document.body.appendChild(div);\n",
              "\n",
              "      const buffers = [];\n",
              "      let downloaded = 0;\n",
              "\n",
              "      const channel = await google.colab.kernel.comms.open(id);\n",
              "      // Send a message to notify the kernel that we're ready.\n",
              "      channel.send({})\n",
              "\n",
              "      for await (const message of channel.messages) {\n",
              "        // Send a message to notify the kernel that we're ready.\n",
              "        channel.send({})\n",
              "        if (message.buffers) {\n",
              "          for (const buffer of message.buffers) {\n",
              "            buffers.push(buffer);\n",
              "            downloaded += buffer.byteLength;\n",
              "            progress.value = downloaded;\n",
              "          }\n",
              "        }\n",
              "      }\n",
              "      const blob = new Blob(buffers, {type: 'application/binary'});\n",
              "      const a = document.createElement('a');\n",
              "      a.href = window.URL.createObjectURL(blob);\n",
              "      a.download = filename;\n",
              "      div.appendChild(a);\n",
              "      a.click();\n",
              "      div.remove();\n",
              "    }\n",
              "  "
            ],
            "text/plain": [
              "<IPython.core.display.Javascript object>"
            ]
          },
          "metadata": {},
          "output_type": "display_data"
        },
        {
          "data": {
            "application/javascript": [
              "download(\"download_2d1d40ac-d60b-4a24-9e93-e197636435db\", \"v5-morenohel.zip\", 35089176)"
            ],
            "text/plain": [
              "<IPython.core.display.Javascript object>"
            ]
          },
          "metadata": {},
          "output_type": "display_data"
        },
        {
          "data": {
            "application/javascript": [
              "\n",
              "    async function download(id, filename, size) {\n",
              "      if (!google.colab.kernel.accessAllowed) {\n",
              "        return;\n",
              "      }\n",
              "      const div = document.createElement('div');\n",
              "      const label = document.createElement('label');\n",
              "      label.textContent = `Downloading \"${filename}\": `;\n",
              "      div.appendChild(label);\n",
              "      const progress = document.createElement('progress');\n",
              "      progress.max = size;\n",
              "      div.appendChild(progress);\n",
              "      document.body.appendChild(div);\n",
              "\n",
              "      const buffers = [];\n",
              "      let downloaded = 0;\n",
              "\n",
              "      const channel = await google.colab.kernel.comms.open(id);\n",
              "      // Send a message to notify the kernel that we're ready.\n",
              "      channel.send({})\n",
              "\n",
              "      for await (const message of channel.messages) {\n",
              "        // Send a message to notify the kernel that we're ready.\n",
              "        channel.send({})\n",
              "        if (message.buffers) {\n",
              "          for (const buffer of message.buffers) {\n",
              "            buffers.push(buffer);\n",
              "            downloaded += buffer.byteLength;\n",
              "            progress.value = downloaded;\n",
              "          }\n",
              "        }\n",
              "      }\n",
              "      const blob = new Blob(buffers, {type: 'application/binary'});\n",
              "      const a = document.createElement('a');\n",
              "      a.href = window.URL.createObjectURL(blob);\n",
              "      a.download = filename;\n",
              "      div.appendChild(a);\n",
              "      a.click();\n",
              "      div.remove();\n",
              "    }\n",
              "  "
            ],
            "text/plain": [
              "<IPython.core.display.Javascript object>"
            ]
          },
          "metadata": {},
          "output_type": "display_data"
        },
        {
          "data": {
            "application/javascript": [
              "download(\"download_a940b402-525a-406d-a3c5-357ad5632f19\", \"v5-morenohel-det1.zip\", 9315254)"
            ],
            "text/plain": [
              "<IPython.core.display.Javascript object>"
            ]
          },
          "metadata": {},
          "output_type": "display_data"
        }
      ],
      "source": [
        "from google.colab import files\n",
        "\n",
        "files.download('smallhead-morenohel-weight.zip')\n",
        "files.download('smallhead-morenohel.zip')\n",
        "files.download('smallhead-morenohel-det1.zip')"
      ]
    },
    {
      "cell_type": "code",
      "source": [
        "%cd /content/yolov5/\n",
        "#---- all\n",
        "!python detect.py --source /content/yolov5/test/images --weights /content/yolov5/runs/train/exp4/weights/best.pt --line-thickness 1  --classes 1"
      ],
      "metadata": {
        "colab": {
          "base_uri": "https://localhost:8080/"
        },
        "id": "B8D7EkMrQjpB",
        "outputId": "285c0705-7734-4475-ba66-d209f44ebe70"
      },
      "execution_count": null,
      "outputs": [
        {
          "output_type": "stream",
          "name": "stdout",
          "text": [
            "/content/yolov5\n",
            "\u001b[34m\u001b[1mdetect: \u001b[0mweights=['/content/yolov5/runs/train/exp4/weights/best.pt'], source=/content/yolov5/test/images, data=data/coco128.yaml, imgsz=[640, 640], conf_thres=0.25, iou_thres=0.45, max_det=1000, device=, view_img=False, save_txt=False, save_conf=False, save_crop=False, nosave=False, classes=[1], agnostic_nms=False, augment=False, visualize=False, update=False, project=runs/detect, name=exp, exist_ok=False, line_thickness=1, hide_labels=False, hide_conf=False, half=False, dnn=False, vid_stride=1\n",
            "YOLOv5 🚀 v7.0-10-g10c025d Python-3.7.15 torch-1.13.0+cu117 CUDA:0 (Tesla T4, 15110MiB)\n",
            "\n",
            "Fusing layers... \n",
            "custom_YOLOv5s summary: 157 layers, 7081055 parameters, 0 gradients, 16.0 GFLOPs\n",
            "image 1/68 /content/yolov5/test/images/image_from_china-1-_jpg.rf.11d0d3fa4bb9a87ece42543447ca690e.jpg: 640x640 (no detections), 12.7ms\n",
            "image 2/68 /content/yolov5/test/images/image_from_china-1081-_jpg.rf.c4366c0dbd6af9202d3d97614546f19f.jpg: 640x640 (no detections), 12.7ms\n",
            "image 3/68 /content/yolov5/test/images/image_from_china-1195-_jpg.rf.d73b4b17599b68246c41f3287d516598.jpg: 640x640 (no detections), 12.7ms\n",
            "image 4/68 /content/yolov5/test/images/image_from_china-1250-_jpg.rf.c4a6f365d760fbc86f3c8729a25c6089.jpg: 640x640 1 Without_Helmet, 12.8ms\n",
            "image 5/68 /content/yolov5/test/images/image_from_china-1322-_jpg.rf.dd5b02970bf13dbb892f044e581332de.jpg: 640x640 (no detections), 12.7ms\n",
            "image 6/68 /content/yolov5/test/images/image_from_china-1390-_jpg.rf.3f84011aa7afbef6088a5f1d2a4da1cd.jpg: 640x640 1 Without_Helmet, 12.7ms\n",
            "image 7/68 /content/yolov5/test/images/image_from_china-140-_jpg.rf.38baad4a0aa369ad7a1196085f77ebc1.jpg: 640x640 (no detections), 11.1ms\n",
            "image 8/68 /content/yolov5/test/images/image_from_china-1405-_jpg.rf.9f5ad4bf6f757d9a91fb3692b1fcbdad.jpg: 640x640 2 Without_Helmets, 11.1ms\n",
            "image 9/68 /content/yolov5/test/images/image_from_china-1415-_jpg.rf.faca78dc1559b8584a9549a008001eb2.jpg: 640x640 (no detections), 11.1ms\n",
            "image 10/68 /content/yolov5/test/images/image_from_china-1427-_jpg.rf.3104b2b13f783ef5d7b4576770a5b0e4.jpg: 640x640 (no detections), 11.1ms\n",
            "image 11/68 /content/yolov5/test/images/image_from_china-1431-_jpg.rf.0b4d05ae6a1631639f606ac00584d07c.jpg: 640x640 (no detections), 11.1ms\n",
            "image 12/68 /content/yolov5/test/images/image_from_china-1567-_jpg.rf.8a047e1be1c40c51088be038ddd773d8.jpg: 640x640 (no detections), 11.1ms\n",
            "image 13/68 /content/yolov5/test/images/image_from_china-1572-_jpg.rf.f3bd0c53deb0f682e6491c772256756b.jpg: 640x640 (no detections), 11.1ms\n",
            "image 14/68 /content/yolov5/test/images/image_from_china-1718-_jpg.rf.7924f6cf8ea87ff74a89dcc9268a7f07.jpg: 640x640 (no detections), 10.9ms\n",
            "image 15/68 /content/yolov5/test/images/image_from_china-1723-_jpg.rf.7b0d9e7dc42d10d16fe31c08ffe1307c.jpg: 640x640 (no detections), 10.5ms\n",
            "image 16/68 /content/yolov5/test/images/image_from_china-181-_jpg.rf.0d469eb5b1e5eb77d58bcd507d6d7368.jpg: 640x640 1 Without_Helmet, 10.5ms\n",
            "image 17/68 /content/yolov5/test/images/image_from_china-1832-_jpg.rf.aadb8e5aca02ebb805b979c9d8cd1cb6.jpg: 640x640 2 Without_Helmets, 10.5ms\n",
            "image 18/68 /content/yolov5/test/images/image_from_china-1850-_jpg.rf.050e123b924d5c8c3cd19cf24f5881a1.jpg: 640x640 (no detections), 10.5ms\n",
            "image 19/68 /content/yolov5/test/images/image_from_china-1851-_jpg.rf.8f01f8adb08c94e42c522e29c9ad9813.jpg: 640x640 1 Without_Helmet, 10.5ms\n",
            "image 20/68 /content/yolov5/test/images/image_from_china-1984-_jpg.rf.153749305948a0b403a9caf48ba3b8d3.jpg: 640x640 (no detections), 10.5ms\n",
            "image 21/68 /content/yolov5/test/images/image_from_china-1992-_jpg.rf.4e5ade8dc57e24dd3b82fc8c7868db61.jpg: 640x640 1 Without_Helmet, 10.5ms\n",
            "image 22/68 /content/yolov5/test/images/image_from_china-2057-_jpg.rf.82eb3004b63000e0389e91555f26aeea.jpg: 640x640 (no detections), 10.4ms\n",
            "image 23/68 /content/yolov5/test/images/image_from_china-2074-_jpg.rf.65bc87b675e806f55729eacbd8842023.jpg: 640x640 7 Without_Helmets, 15.6ms\n",
            "image 24/68 /content/yolov5/test/images/image_from_china-2134-_jpg.rf.92ed3cdaed167ce7fed93b5f3dfbca5c.jpg: 640x640 (no detections), 10.4ms\n",
            "image 25/68 /content/yolov5/test/images/image_from_china-2135-_jpg.rf.39710f68f704a3ff6a3a893ca2718ccb.jpg: 640x640 1 Without_Helmet, 10.4ms\n",
            "image 26/68 /content/yolov5/test/images/image_from_china-2186-_jpg.rf.50692d92b1c109fadaa8acce328d0bef.jpg: 640x640 (no detections), 10.3ms\n",
            "image 27/68 /content/yolov5/test/images/image_from_china-2380-_jpg.rf.0a0faa84891cccd12c3870bf098b0c73.jpg: 640x640 1 Without_Helmet, 10.3ms\n",
            "image 28/68 /content/yolov5/test/images/image_from_china-261-_jpg.rf.2a36ba94817143cff824348bad20fcbe.jpg: 640x640 3 Without_Helmets, 10.4ms\n",
            "image 29/68 /content/yolov5/test/images/image_from_china-263-_jpg.rf.5be3bfaa318279b49394a91be02d1df5.jpg: 640x640 2 Without_Helmets, 10.4ms\n",
            "image 30/68 /content/yolov5/test/images/image_from_china-2678-_jpg.rf.3e43e6d2411a40d3cdacbc873a0073fa.jpg: 640x640 (no detections), 10.3ms\n",
            "image 31/68 /content/yolov5/test/images/image_from_china-2684-_jpg.rf.7f7c3a60439e740de97bbcb0c7ca0513.jpg: 640x640 (no detections), 10.3ms\n",
            "image 32/68 /content/yolov5/test/images/image_from_china-2685-_jpg.rf.f2f74e089df4c3acc0d8dbf93574fb7f.jpg: 640x640 (no detections), 10.4ms\n",
            "image 33/68 /content/yolov5/test/images/image_from_china-2691-_jpg.rf.f5da3233d535b46bf3f4c7532e10bd65.jpg: 640x640 1 Without_Helmet, 10.3ms\n",
            "image 34/68 /content/yolov5/test/images/image_from_china-2735-_jpg.rf.4574111367f36d6684530e6b80db9e80.jpg: 640x640 (no detections), 10.3ms\n",
            "image 35/68 /content/yolov5/test/images/image_from_china-275-_jpg.rf.637c17cc91407250686abfaf48d9e078.jpg: 640x640 (no detections), 14.3ms\n",
            "image 36/68 /content/yolov5/test/images/image_from_china-2757-_jpg.rf.44078a9177a2692fa5d21995a441c461.jpg: 640x640 3 Without_Helmets, 12.0ms\n",
            "image 37/68 /content/yolov5/test/images/image_from_china-2772-_jpg.rf.901d6e1eea9660006dfdd9d375653ccc.jpg: 640x640 (no detections), 9.9ms\n",
            "image 38/68 /content/yolov5/test/images/image_from_china-279-_jpg.rf.a32e0d888c7b80f3ebbb8e25019e2444.jpg: 640x640 3 Without_Helmets, 9.9ms\n",
            "image 39/68 /content/yolov5/test/images/image_from_china-3266-_jpg.rf.be3e561f45491ae45cf73d6a4a94ee31.jpg: 640x640 4 Without_Helmets, 10.1ms\n",
            "image 40/68 /content/yolov5/test/images/image_from_china-3277-_jpg.rf.3c227e728bad0e432792d9922330e4f4.jpg: 640x640 4 Without_Helmets, 9.9ms\n",
            "image 41/68 /content/yolov5/test/images/image_from_china-3294-_jpg.rf.6330a3dc4320fbe6e018302f9a74e38c.jpg: 640x640 (no detections), 9.9ms\n",
            "image 42/68 /content/yolov5/test/images/image_from_china-3648-_jpg.rf.04d86a8e95e30c64b1b1c30142465241.jpg: 640x640 (no detections), 9.9ms\n",
            "image 43/68 /content/yolov5/test/images/image_from_china-3909-_jpg.rf.75614a5b8387fc77ce47afa5b0d0e011.jpg: 640x640 (no detections), 9.9ms\n",
            "image 44/68 /content/yolov5/test/images/image_from_china-3949-_jpg.rf.40499e60dcce0df5fa605082a841982d.jpg: 640x640 1 Without_Helmet, 9.9ms\n",
            "image 45/68 /content/yolov5/test/images/image_from_china-4114-_jpg.rf.d7f2eb999fe131bf64dc729c11b1bef9.jpg: 640x640 1 Without_Helmet, 9.7ms\n",
            "image 46/68 /content/yolov5/test/images/image_from_china-4120-_jpg.rf.5202095495209e7d4f628b0fb410843c.jpg: 640x640 (no detections), 9.7ms\n",
            "image 47/68 /content/yolov5/test/images/image_from_china-4186-_jpg.rf.27a56a09c99673f9d3e384873f12de14.jpg: 640x640 (no detections), 9.7ms\n",
            "image 48/68 /content/yolov5/test/images/image_from_china-4203-_jpg.rf.30a411423df6828316ce6ff680d953c0.jpg: 640x640 (no detections), 9.7ms\n",
            "image 49/68 /content/yolov5/test/images/image_from_china-4250--1-_jpg.rf.47059a2bda8c46e66405456b8eadfc52.jpg: 640x640 (no detections), 11.3ms\n",
            "image 50/68 /content/yolov5/test/images/image_from_china-4285-_jpg.rf.5f87a5fb2ef98ff749d4bb96a2040955.jpg: 640x640 (no detections), 9.7ms\n",
            "image 51/68 /content/yolov5/test/images/image_from_china-4300-_jpg.rf.c0cabeba67c938b8bbfa4734df4dc845.jpg: 640x640 2 Without_Helmets, 9.7ms\n",
            "image 52/68 /content/yolov5/test/images/image_from_china-4312-_jpg.rf.bcb223f337952e9ebd26cfe527deacf1.jpg: 640x640 (no detections), 9.7ms\n",
            "image 53/68 /content/yolov5/test/images/image_from_china-432-_jpg.rf.b958f9b38056b88e0fb329afc4974bbc.jpg: 640x640 1 Without_Helmet, 9.7ms\n",
            "image 54/68 /content/yolov5/test/images/image_from_china-4329-_jpg.rf.7f26496eb570da424a24bc7b7018e6b9.jpg: 640x640 (no detections), 9.8ms\n",
            "image 55/68 /content/yolov5/test/images/image_from_china-4391-_jpg.rf.07cbe8188c7d848332b0b18174841813.jpg: 640x640 1 Without_Helmet, 9.7ms\n",
            "image 56/68 /content/yolov5/test/images/image_from_china-4422-_jpg.rf.8baf7df5e997260bd444e8cb546b4cab.jpg: 640x640 1 Without_Helmet, 11.5ms\n",
            "image 57/68 /content/yolov5/test/images/image_from_china-4443-_jpg.rf.26d3607d0ea8c1e7909a20d736028251.jpg: 640x640 (no detections), 9.8ms\n",
            "image 58/68 /content/yolov5/test/images/image_from_china-4444-_jpg.rf.f20f275fc77b58f5b0e5b3f3e0416e64.jpg: 640x640 (no detections), 12.5ms\n",
            "image 59/68 /content/yolov5/test/images/image_from_china-560-_jpg.rf.d8f1d6276d221c780350a0a80551caad.jpg: 640x640 2 Without_Helmets, 10.0ms\n",
            "image 60/68 /content/yolov5/test/images/image_from_china-677-_jpg.rf.f9e5534401e1d50e305dfc524bc670ae.jpg: 640x640 (no detections), 9.8ms\n",
            "image 61/68 /content/yolov5/test/images/image_from_china-794-_jpg.rf.6f76d5b8bc97ac39e5b5bde1f9d3b5cf.jpg: 640x640 (no detections), 9.9ms\n",
            "image 62/68 /content/yolov5/test/images/image_from_china-795-_jpg.rf.96815654a1675fe24ff7f144892d0d18.jpg: 640x640 (no detections), 9.7ms\n",
            "image 63/68 /content/yolov5/test/images/image_from_china-833-_jpg.rf.17215957cb4c823022bc90dcfab02951.jpg: 640x640 (no detections), 9.7ms\n",
            "image 64/68 /content/yolov5/test/images/image_from_china-838-_jpg.rf.e26334b9da4a2aab34edb38464e19cd9.jpg: 640x640 (no detections), 9.7ms\n",
            "image 65/68 /content/yolov5/test/images/image_from_china-848-_jpg.rf.d77f01c86895bcca79bc324ddd947f91.jpg: 640x640 (no detections), 9.7ms\n",
            "image 66/68 /content/yolov5/test/images/image_from_china-866-_jpg.rf.c29d03ea6aae8b9c57df5dc8d0ac970b.jpg: 640x640 1 Without_Helmet, 9.7ms\n",
            "image 67/68 /content/yolov5/test/images/image_from_china-959-_jpg.rf.f53c986de124004c75ca527f9080fcd7.jpg: 640x640 (no detections), 9.8ms\n",
            "image 68/68 /content/yolov5/test/images/image_from_china-969-_jpg.rf.6833734c551a488bc8032e53a0522069.jpg: 640x640 (no detections), 9.8ms\n",
            "Speed: 0.5ms pre-process, 10.7ms inference, 0.9ms NMS per image at shape (1, 3, 640, 640)\n",
            "Results saved to \u001b[1mruns/detect/exp19\u001b[0m\n"
          ]
        }
      ]
    },
    {
      "cell_type": "code",
      "source": [],
      "metadata": {
        "id": "r8-gbQ0Pb1sg"
      },
      "execution_count": null,
      "outputs": []
    },
    {
      "cell_type": "code",
      "source": [
        "\n",
        "!zip -r all-noconf-inf.zip runs/detect/exp19\n",
        "!zip -r basenoconf-inf  runs/detect/exp20\n",
        "!zip -r bi-noconf-inf runs/detect/exp21"
      ],
      "metadata": {
        "id": "3DSq_EWcRJPM",
        "colab": {
          "base_uri": "https://localhost:8080/"
        },
        "outputId": "d153b903-9d70-49d1-865a-7b1d70f6044b"
      },
      "execution_count": null,
      "outputs": [
        {
          "output_type": "stream",
          "name": "stdout",
          "text": [
            "  adding: runs/detect/exp19/ (stored 0%)\n",
            "  adding: runs/detect/exp19/image_from_china-3294-_jpg.rf.6330a3dc4320fbe6e018302f9a74e38c.jpg (deflated 4%)\n",
            "  adding: runs/detect/exp19/image_from_china-1195-_jpg.rf.d73b4b17599b68246c41f3287d516598.jpg (deflated 5%)\n",
            "  adding: runs/detect/exp19/image_from_china-1427-_jpg.rf.3104b2b13f783ef5d7b4576770a5b0e4.jpg (deflated 5%)\n",
            "  adding: runs/detect/exp19/image_from_china-4203-_jpg.rf.30a411423df6828316ce6ff680d953c0.jpg (deflated 6%)\n",
            "  adding: runs/detect/exp19/image_from_china-3277-_jpg.rf.3c227e728bad0e432792d9922330e4f4.jpg (deflated 4%)\n",
            "  adding: runs/detect/exp19/image_from_china-677-_jpg.rf.f9e5534401e1d50e305dfc524bc670ae.jpg (deflated 6%)\n",
            "  adding: runs/detect/exp19/image_from_china-2186-_jpg.rf.50692d92b1c109fadaa8acce328d0bef.jpg (deflated 6%)\n",
            "  adding: runs/detect/exp19/image_from_china-2735-_jpg.rf.4574111367f36d6684530e6b80db9e80.jpg (deflated 6%)\n",
            "  adding: runs/detect/exp19/image_from_china-794-_jpg.rf.6f76d5b8bc97ac39e5b5bde1f9d3b5cf.jpg (deflated 5%)\n",
            "  adding: runs/detect/exp19/image_from_china-279-_jpg.rf.a32e0d888c7b80f3ebbb8e25019e2444.jpg (deflated 6%)\n",
            "  adding: runs/detect/exp19/image_from_china-2685-_jpg.rf.f2f74e089df4c3acc0d8dbf93574fb7f.jpg (deflated 6%)\n",
            "  adding: runs/detect/exp19/image_from_china-2684-_jpg.rf.7f7c3a60439e740de97bbcb0c7ca0513.jpg (deflated 6%)\n",
            "  adding: runs/detect/exp19/image_from_china-1718-_jpg.rf.7924f6cf8ea87ff74a89dcc9268a7f07.jpg (deflated 7%)\n",
            "  adding: runs/detect/exp19/image_from_china-959-_jpg.rf.f53c986de124004c75ca527f9080fcd7.jpg (deflated 5%)\n",
            "  adding: runs/detect/exp19/image_from_china-1851-_jpg.rf.8f01f8adb08c94e42c522e29c9ad9813.jpg (deflated 5%)\n",
            "  adding: runs/detect/exp19/image_from_china-4300-_jpg.rf.c0cabeba67c938b8bbfa4734df4dc845.jpg (deflated 4%)\n",
            "  adding: runs/detect/exp19/image_from_china-275-_jpg.rf.637c17cc91407250686abfaf48d9e078.jpg (deflated 5%)\n",
            "  adding: runs/detect/exp19/image_from_china-2757-_jpg.rf.44078a9177a2692fa5d21995a441c461.jpg (deflated 6%)\n",
            "  adding: runs/detect/exp19/image_from_china-1-_jpg.rf.11d0d3fa4bb9a87ece42543447ca690e.jpg (deflated 5%)\n",
            "  adding: runs/detect/exp19/image_from_china-2772-_jpg.rf.901d6e1eea9660006dfdd9d375653ccc.jpg (deflated 7%)\n",
            "  adding: runs/detect/exp19/image_from_china-833-_jpg.rf.17215957cb4c823022bc90dcfab02951.jpg (deflated 8%)\n",
            "  adding: runs/detect/exp19/image_from_china-4422-_jpg.rf.8baf7df5e997260bd444e8cb546b4cab.jpg (deflated 5%)\n",
            "  adding: runs/detect/exp19/image_from_china-1850-_jpg.rf.050e123b924d5c8c3cd19cf24f5881a1.jpg (deflated 6%)\n",
            "  adding: runs/detect/exp19/image_from_china-2678-_jpg.rf.3e43e6d2411a40d3cdacbc873a0073fa.jpg (deflated 16%)\n",
            "  adding: runs/detect/exp19/image_from_china-1832-_jpg.rf.aadb8e5aca02ebb805b979c9d8cd1cb6.jpg (deflated 5%)\n",
            "  adding: runs/detect/exp19/image_from_china-432-_jpg.rf.b958f9b38056b88e0fb329afc4974bbc.jpg (deflated 4%)\n",
            "  adding: runs/detect/exp19/image_from_china-2135-_jpg.rf.39710f68f704a3ff6a3a893ca2718ccb.jpg (deflated 7%)\n",
            "  adding: runs/detect/exp19/image_from_china-1567-_jpg.rf.8a047e1be1c40c51088be038ddd773d8.jpg (deflated 4%)\n",
            "  adding: runs/detect/exp19/image_from_china-140-_jpg.rf.38baad4a0aa369ad7a1196085f77ebc1.jpg (deflated 6%)\n",
            "  adding: runs/detect/exp19/image_from_china-1081-_jpg.rf.c4366c0dbd6af9202d3d97614546f19f.jpg (deflated 5%)\n",
            "  adding: runs/detect/exp19/image_from_china-2691-_jpg.rf.f5da3233d535b46bf3f4c7532e10bd65.jpg (deflated 8%)\n",
            "  adding: runs/detect/exp19/image_from_china-2074-_jpg.rf.65bc87b675e806f55729eacbd8842023.jpg (deflated 5%)\n",
            "  adding: runs/detect/exp19/image_from_china-1984-_jpg.rf.153749305948a0b403a9caf48ba3b8d3.jpg (deflated 6%)\n",
            "  adding: runs/detect/exp19/image_from_china-866-_jpg.rf.c29d03ea6aae8b9c57df5dc8d0ac970b.jpg (deflated 4%)\n",
            "  adding: runs/detect/exp19/image_from_china-4120-_jpg.rf.5202095495209e7d4f628b0fb410843c.jpg (deflated 7%)\n",
            "  adding: runs/detect/exp19/image_from_china-1415-_jpg.rf.faca78dc1559b8584a9549a008001eb2.jpg (deflated 5%)\n",
            "  adding: runs/detect/exp19/image_from_china-3266-_jpg.rf.be3e561f45491ae45cf73d6a4a94ee31.jpg (deflated 4%)\n",
            "  adding: runs/detect/exp19/image_from_china-261-_jpg.rf.2a36ba94817143cff824348bad20fcbe.jpg (deflated 6%)\n",
            "  adding: runs/detect/exp19/image_from_china-4329-_jpg.rf.7f26496eb570da424a24bc7b7018e6b9.jpg (deflated 5%)\n",
            "  adding: runs/detect/exp19/image_from_china-4444-_jpg.rf.f20f275fc77b58f5b0e5b3f3e0416e64.jpg (deflated 4%)\n",
            "  adding: runs/detect/exp19/image_from_china-4186-_jpg.rf.27a56a09c99673f9d3e384873f12de14.jpg (deflated 6%)\n",
            "  adding: runs/detect/exp19/image_from_china-1572-_jpg.rf.f3bd0c53deb0f682e6491c772256756b.jpg (deflated 6%)\n",
            "  adding: runs/detect/exp19/image_from_china-2057-_jpg.rf.82eb3004b63000e0389e91555f26aeea.jpg (deflated 5%)\n",
            "  adding: runs/detect/exp19/image_from_china-263-_jpg.rf.5be3bfaa318279b49394a91be02d1df5.jpg (deflated 6%)\n",
            "  adding: runs/detect/exp19/image_from_china-4312-_jpg.rf.bcb223f337952e9ebd26cfe527deacf1.jpg (deflated 6%)\n",
            "  adding: runs/detect/exp19/image_from_china-560-_jpg.rf.d8f1d6276d221c780350a0a80551caad.jpg (deflated 6%)\n",
            "  adding: runs/detect/exp19/image_from_china-2134-_jpg.rf.92ed3cdaed167ce7fed93b5f3dfbca5c.jpg (deflated 5%)\n",
            "  adding: runs/detect/exp19/image_from_china-1390-_jpg.rf.3f84011aa7afbef6088a5f1d2a4da1cd.jpg (deflated 5%)\n",
            "  adding: runs/detect/exp19/image_from_china-848-_jpg.rf.d77f01c86895bcca79bc324ddd947f91.jpg (deflated 5%)\n",
            "  adding: runs/detect/exp19/image_from_china-4391-_jpg.rf.07cbe8188c7d848332b0b18174841813.jpg (deflated 5%)\n",
            "  adding: runs/detect/exp19/image_from_china-4250--1-_jpg.rf.47059a2bda8c46e66405456b8eadfc52.jpg (deflated 4%)\n",
            "  adding: runs/detect/exp19/image_from_china-1431-_jpg.rf.0b4d05ae6a1631639f606ac00584d07c.jpg (deflated 7%)\n",
            "  adding: runs/detect/exp19/image_from_china-1322-_jpg.rf.dd5b02970bf13dbb892f044e581332de.jpg (deflated 5%)\n",
            "  adding: runs/detect/exp19/image_from_china-2380-_jpg.rf.0a0faa84891cccd12c3870bf098b0c73.jpg (deflated 5%)\n",
            "  adding: runs/detect/exp19/image_from_china-838-_jpg.rf.e26334b9da4a2aab34edb38464e19cd9.jpg (deflated 5%)\n",
            "  adding: runs/detect/exp19/image_from_china-3909-_jpg.rf.75614a5b8387fc77ce47afa5b0d0e011.jpg (deflated 6%)\n",
            "  adding: runs/detect/exp19/image_from_china-1250-_jpg.rf.c4a6f365d760fbc86f3c8729a25c6089.jpg (deflated 5%)\n",
            "  adding: runs/detect/exp19/image_from_china-795-_jpg.rf.96815654a1675fe24ff7f144892d0d18.jpg (deflated 5%)\n",
            "  adding: runs/detect/exp19/image_from_china-181-_jpg.rf.0d469eb5b1e5eb77d58bcd507d6d7368.jpg (deflated 4%)\n",
            "  adding: runs/detect/exp19/image_from_china-3648-_jpg.rf.04d86a8e95e30c64b1b1c30142465241.jpg (deflated 7%)\n",
            "  adding: runs/detect/exp19/image_from_china-4114-_jpg.rf.d7f2eb999fe131bf64dc729c11b1bef9.jpg (deflated 7%)\n",
            "  adding: runs/detect/exp19/image_from_china-969-_jpg.rf.6833734c551a488bc8032e53a0522069.jpg (deflated 5%)\n",
            "  adding: runs/detect/exp19/image_from_china-3949-_jpg.rf.40499e60dcce0df5fa605082a841982d.jpg (deflated 4%)\n",
            "  adding: runs/detect/exp19/image_from_china-1723-_jpg.rf.7b0d9e7dc42d10d16fe31c08ffe1307c.jpg (deflated 5%)\n",
            "  adding: runs/detect/exp19/image_from_china-4443-_jpg.rf.26d3607d0ea8c1e7909a20d736028251.jpg (deflated 5%)\n",
            "  adding: runs/detect/exp19/image_from_china-1405-_jpg.rf.9f5ad4bf6f757d9a91fb3692b1fcbdad.jpg (deflated 4%)\n",
            "  adding: runs/detect/exp19/image_from_china-4285-_jpg.rf.5f87a5fb2ef98ff749d4bb96a2040955.jpg (deflated 5%)\n",
            "  adding: runs/detect/exp19/image_from_china-1992-_jpg.rf.4e5ade8dc57e24dd3b82fc8c7868db61.jpg (deflated 5%)\n",
            "  adding: runs/detect/exp20/ (stored 0%)\n",
            "  adding: runs/detect/exp20/image_from_china-3294-_jpg.rf.6330a3dc4320fbe6e018302f9a74e38c.jpg (deflated 4%)\n",
            "  adding: runs/detect/exp20/image_from_china-1195-_jpg.rf.d73b4b17599b68246c41f3287d516598.jpg (deflated 5%)\n",
            "  adding: runs/detect/exp20/image_from_china-1427-_jpg.rf.3104b2b13f783ef5d7b4576770a5b0e4.jpg (deflated 5%)\n",
            "  adding: runs/detect/exp20/image_from_china-4203-_jpg.rf.30a411423df6828316ce6ff680d953c0.jpg (deflated 6%)\n",
            "  adding: runs/detect/exp20/image_from_china-3277-_jpg.rf.3c227e728bad0e432792d9922330e4f4.jpg (deflated 4%)\n",
            "  adding: runs/detect/exp20/image_from_china-677-_jpg.rf.f9e5534401e1d50e305dfc524bc670ae.jpg (deflated 6%)\n",
            "  adding: runs/detect/exp20/image_from_china-2186-_jpg.rf.50692d92b1c109fadaa8acce328d0bef.jpg (deflated 6%)\n",
            "  adding: runs/detect/exp20/image_from_china-2735-_jpg.rf.4574111367f36d6684530e6b80db9e80.jpg (deflated 6%)\n",
            "  adding: runs/detect/exp20/image_from_china-794-_jpg.rf.6f76d5b8bc97ac39e5b5bde1f9d3b5cf.jpg (deflated 5%)\n",
            "  adding: runs/detect/exp20/image_from_china-279-_jpg.rf.a32e0d888c7b80f3ebbb8e25019e2444.jpg (deflated 6%)\n",
            "  adding: runs/detect/exp20/image_from_china-2685-_jpg.rf.f2f74e089df4c3acc0d8dbf93574fb7f.jpg (deflated 6%)\n",
            "  adding: runs/detect/exp20/image_from_china-2684-_jpg.rf.7f7c3a60439e740de97bbcb0c7ca0513.jpg (deflated 6%)\n",
            "  adding: runs/detect/exp20/image_from_china-1718-_jpg.rf.7924f6cf8ea87ff74a89dcc9268a7f07.jpg (deflated 7%)\n",
            "  adding: runs/detect/exp20/image_from_china-959-_jpg.rf.f53c986de124004c75ca527f9080fcd7.jpg (deflated 5%)\n",
            "  adding: runs/detect/exp20/image_from_china-1851-_jpg.rf.8f01f8adb08c94e42c522e29c9ad9813.jpg (deflated 5%)\n",
            "  adding: runs/detect/exp20/image_from_china-4300-_jpg.rf.c0cabeba67c938b8bbfa4734df4dc845.jpg (deflated 4%)\n",
            "  adding: runs/detect/exp20/image_from_china-275-_jpg.rf.637c17cc91407250686abfaf48d9e078.jpg (deflated 5%)\n",
            "  adding: runs/detect/exp20/image_from_china-2757-_jpg.rf.44078a9177a2692fa5d21995a441c461.jpg (deflated 6%)\n",
            "  adding: runs/detect/exp20/image_from_china-1-_jpg.rf.11d0d3fa4bb9a87ece42543447ca690e.jpg (deflated 5%)\n",
            "  adding: runs/detect/exp20/image_from_china-2772-_jpg.rf.901d6e1eea9660006dfdd9d375653ccc.jpg (deflated 7%)\n",
            "  adding: runs/detect/exp20/image_from_china-833-_jpg.rf.17215957cb4c823022bc90dcfab02951.jpg (deflated 8%)\n",
            "  adding: runs/detect/exp20/image_from_china-4422-_jpg.rf.8baf7df5e997260bd444e8cb546b4cab.jpg (deflated 5%)\n",
            "  adding: runs/detect/exp20/image_from_china-1850-_jpg.rf.050e123b924d5c8c3cd19cf24f5881a1.jpg (deflated 6%)\n",
            "  adding: runs/detect/exp20/image_from_china-2678-_jpg.rf.3e43e6d2411a40d3cdacbc873a0073fa.jpg (deflated 16%)\n",
            "  adding: runs/detect/exp20/image_from_china-1832-_jpg.rf.aadb8e5aca02ebb805b979c9d8cd1cb6.jpg (deflated 5%)\n",
            "  adding: runs/detect/exp20/image_from_china-432-_jpg.rf.b958f9b38056b88e0fb329afc4974bbc.jpg (deflated 4%)\n",
            "  adding: runs/detect/exp20/image_from_china-2135-_jpg.rf.39710f68f704a3ff6a3a893ca2718ccb.jpg (deflated 7%)\n",
            "  adding: runs/detect/exp20/image_from_china-1567-_jpg.rf.8a047e1be1c40c51088be038ddd773d8.jpg (deflated 4%)\n",
            "  adding: runs/detect/exp20/image_from_china-140-_jpg.rf.38baad4a0aa369ad7a1196085f77ebc1.jpg (deflated 6%)\n",
            "  adding: runs/detect/exp20/image_from_china-1081-_jpg.rf.c4366c0dbd6af9202d3d97614546f19f.jpg (deflated 5%)\n",
            "  adding: runs/detect/exp20/image_from_china-2691-_jpg.rf.f5da3233d535b46bf3f4c7532e10bd65.jpg (deflated 8%)\n",
            "  adding: runs/detect/exp20/image_from_china-2074-_jpg.rf.65bc87b675e806f55729eacbd8842023.jpg (deflated 5%)\n",
            "  adding: runs/detect/exp20/image_from_china-1984-_jpg.rf.153749305948a0b403a9caf48ba3b8d3.jpg (deflated 6%)\n",
            "  adding: runs/detect/exp20/image_from_china-866-_jpg.rf.c29d03ea6aae8b9c57df5dc8d0ac970b.jpg (deflated 4%)\n",
            "  adding: runs/detect/exp20/image_from_china-4120-_jpg.rf.5202095495209e7d4f628b0fb410843c.jpg (deflated 7%)\n",
            "  adding: runs/detect/exp20/image_from_china-1415-_jpg.rf.faca78dc1559b8584a9549a008001eb2.jpg (deflated 5%)\n",
            "  adding: runs/detect/exp20/image_from_china-3266-_jpg.rf.be3e561f45491ae45cf73d6a4a94ee31.jpg (deflated 4%)\n",
            "  adding: runs/detect/exp20/image_from_china-261-_jpg.rf.2a36ba94817143cff824348bad20fcbe.jpg (deflated 6%)\n",
            "  adding: runs/detect/exp20/image_from_china-4329-_jpg.rf.7f26496eb570da424a24bc7b7018e6b9.jpg (deflated 5%)\n",
            "  adding: runs/detect/exp20/image_from_china-4444-_jpg.rf.f20f275fc77b58f5b0e5b3f3e0416e64.jpg (deflated 4%)\n",
            "  adding: runs/detect/exp20/image_from_china-4186-_jpg.rf.27a56a09c99673f9d3e384873f12de14.jpg (deflated 6%)\n",
            "  adding: runs/detect/exp20/image_from_china-1572-_jpg.rf.f3bd0c53deb0f682e6491c772256756b.jpg (deflated 6%)\n",
            "  adding: runs/detect/exp20/image_from_china-2057-_jpg.rf.82eb3004b63000e0389e91555f26aeea.jpg (deflated 5%)\n",
            "  adding: runs/detect/exp20/image_from_china-263-_jpg.rf.5be3bfaa318279b49394a91be02d1df5.jpg (deflated 6%)\n",
            "  adding: runs/detect/exp20/image_from_china-4312-_jpg.rf.bcb223f337952e9ebd26cfe527deacf1.jpg (deflated 6%)\n",
            "  adding: runs/detect/exp20/image_from_china-560-_jpg.rf.d8f1d6276d221c780350a0a80551caad.jpg (deflated 6%)\n",
            "  adding: runs/detect/exp20/image_from_china-2134-_jpg.rf.92ed3cdaed167ce7fed93b5f3dfbca5c.jpg (deflated 5%)\n",
            "  adding: runs/detect/exp20/image_from_china-1390-_jpg.rf.3f84011aa7afbef6088a5f1d2a4da1cd.jpg (deflated 6%)\n",
            "  adding: runs/detect/exp20/image_from_china-848-_jpg.rf.d77f01c86895bcca79bc324ddd947f91.jpg (deflated 5%)\n",
            "  adding: runs/detect/exp20/image_from_china-4391-_jpg.rf.07cbe8188c7d848332b0b18174841813.jpg (deflated 5%)\n",
            "  adding: runs/detect/exp20/image_from_china-4250--1-_jpg.rf.47059a2bda8c46e66405456b8eadfc52.jpg (deflated 4%)\n",
            "  adding: runs/detect/exp20/image_from_china-1431-_jpg.rf.0b4d05ae6a1631639f606ac00584d07c.jpg (deflated 7%)\n",
            "  adding: runs/detect/exp20/image_from_china-1322-_jpg.rf.dd5b02970bf13dbb892f044e581332de.jpg (deflated 5%)\n",
            "  adding: runs/detect/exp20/image_from_china-2380-_jpg.rf.0a0faa84891cccd12c3870bf098b0c73.jpg (deflated 5%)\n",
            "  adding: runs/detect/exp20/image_from_china-838-_jpg.rf.e26334b9da4a2aab34edb38464e19cd9.jpg (deflated 5%)\n",
            "  adding: runs/detect/exp20/image_from_china-3909-_jpg.rf.75614a5b8387fc77ce47afa5b0d0e011.jpg (deflated 6%)\n",
            "  adding: runs/detect/exp20/image_from_china-1250-_jpg.rf.c4a6f365d760fbc86f3c8729a25c6089.jpg (deflated 5%)\n",
            "  adding: runs/detect/exp20/image_from_china-795-_jpg.rf.96815654a1675fe24ff7f144892d0d18.jpg (deflated 5%)\n",
            "  adding: runs/detect/exp20/image_from_china-181-_jpg.rf.0d469eb5b1e5eb77d58bcd507d6d7368.jpg (deflated 4%)\n",
            "  adding: runs/detect/exp20/image_from_china-3648-_jpg.rf.04d86a8e95e30c64b1b1c30142465241.jpg (deflated 7%)\n",
            "  adding: runs/detect/exp20/image_from_china-4114-_jpg.rf.d7f2eb999fe131bf64dc729c11b1bef9.jpg (deflated 7%)\n",
            "  adding: runs/detect/exp20/image_from_china-969-_jpg.rf.6833734c551a488bc8032e53a0522069.jpg (deflated 5%)\n",
            "  adding: runs/detect/exp20/image_from_china-3949-_jpg.rf.40499e60dcce0df5fa605082a841982d.jpg (deflated 4%)\n",
            "  adding: runs/detect/exp20/image_from_china-1723-_jpg.rf.7b0d9e7dc42d10d16fe31c08ffe1307c.jpg (deflated 5%)\n",
            "  adding: runs/detect/exp20/image_from_china-4443-_jpg.rf.26d3607d0ea8c1e7909a20d736028251.jpg (deflated 5%)\n",
            "  adding: runs/detect/exp20/image_from_china-1405-_jpg.rf.9f5ad4bf6f757d9a91fb3692b1fcbdad.jpg (deflated 4%)\n",
            "  adding: runs/detect/exp20/image_from_china-4285-_jpg.rf.5f87a5fb2ef98ff749d4bb96a2040955.jpg (deflated 5%)\n",
            "  adding: runs/detect/exp20/image_from_china-1992-_jpg.rf.4e5ade8dc57e24dd3b82fc8c7868db61.jpg (deflated 5%)\n",
            "  adding: runs/detect/exp21/ (stored 0%)\n",
            "  adding: runs/detect/exp21/image_from_china-3294-_jpg.rf.6330a3dc4320fbe6e018302f9a74e38c.jpg (deflated 4%)\n",
            "  adding: runs/detect/exp21/image_from_china-1195-_jpg.rf.d73b4b17599b68246c41f3287d516598.jpg (deflated 5%)\n",
            "  adding: runs/detect/exp21/image_from_china-1427-_jpg.rf.3104b2b13f783ef5d7b4576770a5b0e4.jpg (deflated 5%)\n",
            "  adding: runs/detect/exp21/image_from_china-4203-_jpg.rf.30a411423df6828316ce6ff680d953c0.jpg (deflated 6%)\n",
            "  adding: runs/detect/exp21/image_from_china-3277-_jpg.rf.3c227e728bad0e432792d9922330e4f4.jpg (deflated 4%)\n",
            "  adding: runs/detect/exp21/image_from_china-677-_jpg.rf.f9e5534401e1d50e305dfc524bc670ae.jpg (deflated 6%)\n",
            "  adding: runs/detect/exp21/image_from_china-2186-_jpg.rf.50692d92b1c109fadaa8acce328d0bef.jpg (deflated 5%)\n",
            "  adding: runs/detect/exp21/image_from_china-2735-_jpg.rf.4574111367f36d6684530e6b80db9e80.jpg (deflated 6%)\n",
            "  adding: runs/detect/exp21/image_from_china-794-_jpg.rf.6f76d5b8bc97ac39e5b5bde1f9d3b5cf.jpg (deflated 5%)\n",
            "  adding: runs/detect/exp21/image_from_china-279-_jpg.rf.a32e0d888c7b80f3ebbb8e25019e2444.jpg (deflated 6%)\n",
            "  adding: runs/detect/exp21/image_from_china-2685-_jpg.rf.f2f74e089df4c3acc0d8dbf93574fb7f.jpg (deflated 6%)\n",
            "  adding: runs/detect/exp21/image_from_china-2684-_jpg.rf.7f7c3a60439e740de97bbcb0c7ca0513.jpg (deflated 6%)\n",
            "  adding: runs/detect/exp21/image_from_china-1718-_jpg.rf.7924f6cf8ea87ff74a89dcc9268a7f07.jpg (deflated 7%)\n",
            "  adding: runs/detect/exp21/image_from_china-959-_jpg.rf.f53c986de124004c75ca527f9080fcd7.jpg (deflated 5%)\n",
            "  adding: runs/detect/exp21/image_from_china-1851-_jpg.rf.8f01f8adb08c94e42c522e29c9ad9813.jpg (deflated 5%)\n",
            "  adding: runs/detect/exp21/image_from_china-4300-_jpg.rf.c0cabeba67c938b8bbfa4734df4dc845.jpg (deflated 4%)\n",
            "  adding: runs/detect/exp21/image_from_china-275-_jpg.rf.637c17cc91407250686abfaf48d9e078.jpg (deflated 5%)\n",
            "  adding: runs/detect/exp21/image_from_china-2757-_jpg.rf.44078a9177a2692fa5d21995a441c461.jpg (deflated 6%)\n",
            "  adding: runs/detect/exp21/image_from_china-1-_jpg.rf.11d0d3fa4bb9a87ece42543447ca690e.jpg (deflated 5%)\n",
            "  adding: runs/detect/exp21/image_from_china-2772-_jpg.rf.901d6e1eea9660006dfdd9d375653ccc.jpg (deflated 7%)\n",
            "  adding: runs/detect/exp21/image_from_china-833-_jpg.rf.17215957cb4c823022bc90dcfab02951.jpg (deflated 8%)\n",
            "  adding: runs/detect/exp21/image_from_china-4422-_jpg.rf.8baf7df5e997260bd444e8cb546b4cab.jpg (deflated 5%)\n",
            "  adding: runs/detect/exp21/image_from_china-1850-_jpg.rf.050e123b924d5c8c3cd19cf24f5881a1.jpg (deflated 6%)\n",
            "  adding: runs/detect/exp21/image_from_china-2678-_jpg.rf.3e43e6d2411a40d3cdacbc873a0073fa.jpg (deflated 16%)\n",
            "  adding: runs/detect/exp21/image_from_china-1832-_jpg.rf.aadb8e5aca02ebb805b979c9d8cd1cb6.jpg (deflated 5%)\n",
            "  adding: runs/detect/exp21/image_from_china-432-_jpg.rf.b958f9b38056b88e0fb329afc4974bbc.jpg (deflated 4%)\n",
            "  adding: runs/detect/exp21/image_from_china-2135-_jpg.rf.39710f68f704a3ff6a3a893ca2718ccb.jpg (deflated 7%)\n",
            "  adding: runs/detect/exp21/image_from_china-1567-_jpg.rf.8a047e1be1c40c51088be038ddd773d8.jpg (deflated 4%)\n",
            "  adding: runs/detect/exp21/image_from_china-140-_jpg.rf.38baad4a0aa369ad7a1196085f77ebc1.jpg (deflated 6%)\n",
            "  adding: runs/detect/exp21/image_from_china-1081-_jpg.rf.c4366c0dbd6af9202d3d97614546f19f.jpg (deflated 5%)\n",
            "  adding: runs/detect/exp21/image_from_china-2691-_jpg.rf.f5da3233d535b46bf3f4c7532e10bd65.jpg (deflated 8%)\n",
            "  adding: runs/detect/exp21/image_from_china-2074-_jpg.rf.65bc87b675e806f55729eacbd8842023.jpg (deflated 5%)\n",
            "  adding: runs/detect/exp21/image_from_china-1984-_jpg.rf.153749305948a0b403a9caf48ba3b8d3.jpg (deflated 6%)\n",
            "  adding: runs/detect/exp21/image_from_china-866-_jpg.rf.c29d03ea6aae8b9c57df5dc8d0ac970b.jpg (deflated 4%)\n",
            "  adding: runs/detect/exp21/image_from_china-4120-_jpg.rf.5202095495209e7d4f628b0fb410843c.jpg (deflated 7%)\n",
            "  adding: runs/detect/exp21/image_from_china-1415-_jpg.rf.faca78dc1559b8584a9549a008001eb2.jpg (deflated 5%)\n",
            "  adding: runs/detect/exp21/image_from_china-3266-_jpg.rf.be3e561f45491ae45cf73d6a4a94ee31.jpg (deflated 4%)\n",
            "  adding: runs/detect/exp21/image_from_china-261-_jpg.rf.2a36ba94817143cff824348bad20fcbe.jpg (deflated 5%)\n",
            "  adding: runs/detect/exp21/image_from_china-4329-_jpg.rf.7f26496eb570da424a24bc7b7018e6b9.jpg (deflated 5%)\n",
            "  adding: runs/detect/exp21/image_from_china-4444-_jpg.rf.f20f275fc77b58f5b0e5b3f3e0416e64.jpg (deflated 4%)\n",
            "  adding: runs/detect/exp21/image_from_china-4186-_jpg.rf.27a56a09c99673f9d3e384873f12de14.jpg (deflated 6%)\n",
            "  adding: runs/detect/exp21/image_from_china-1572-_jpg.rf.f3bd0c53deb0f682e6491c772256756b.jpg (deflated 6%)\n",
            "  adding: runs/detect/exp21/image_from_china-2057-_jpg.rf.82eb3004b63000e0389e91555f26aeea.jpg (deflated 5%)\n",
            "  adding: runs/detect/exp21/image_from_china-263-_jpg.rf.5be3bfaa318279b49394a91be02d1df5.jpg (deflated 6%)\n",
            "  adding: runs/detect/exp21/image_from_china-4312-_jpg.rf.bcb223f337952e9ebd26cfe527deacf1.jpg (deflated 6%)\n",
            "  adding: runs/detect/exp21/image_from_china-560-_jpg.rf.d8f1d6276d221c780350a0a80551caad.jpg (deflated 6%)\n",
            "  adding: runs/detect/exp21/image_from_china-2134-_jpg.rf.92ed3cdaed167ce7fed93b5f3dfbca5c.jpg (deflated 5%)\n",
            "  adding: runs/detect/exp21/image_from_china-1390-_jpg.rf.3f84011aa7afbef6088a5f1d2a4da1cd.jpg (deflated 6%)\n",
            "  adding: runs/detect/exp21/image_from_china-848-_jpg.rf.d77f01c86895bcca79bc324ddd947f91.jpg (deflated 5%)\n",
            "  adding: runs/detect/exp21/image_from_china-4391-_jpg.rf.07cbe8188c7d848332b0b18174841813.jpg (deflated 5%)\n",
            "  adding: runs/detect/exp21/image_from_china-4250--1-_jpg.rf.47059a2bda8c46e66405456b8eadfc52.jpg (deflated 4%)\n",
            "  adding: runs/detect/exp21/image_from_china-1431-_jpg.rf.0b4d05ae6a1631639f606ac00584d07c.jpg (deflated 6%)\n",
            "  adding: runs/detect/exp21/image_from_china-1322-_jpg.rf.dd5b02970bf13dbb892f044e581332de.jpg (deflated 5%)\n",
            "  adding: runs/detect/exp21/image_from_china-2380-_jpg.rf.0a0faa84891cccd12c3870bf098b0c73.jpg (deflated 5%)\n",
            "  adding: runs/detect/exp21/image_from_china-838-_jpg.rf.e26334b9da4a2aab34edb38464e19cd9.jpg (deflated 5%)\n",
            "  adding: runs/detect/exp21/image_from_china-3909-_jpg.rf.75614a5b8387fc77ce47afa5b0d0e011.jpg (deflated 6%)\n",
            "  adding: runs/detect/exp21/image_from_china-1250-_jpg.rf.c4a6f365d760fbc86f3c8729a25c6089.jpg (deflated 5%)\n",
            "  adding: runs/detect/exp21/image_from_china-795-_jpg.rf.96815654a1675fe24ff7f144892d0d18.jpg (deflated 5%)\n",
            "  adding: runs/detect/exp21/image_from_china-181-_jpg.rf.0d469eb5b1e5eb77d58bcd507d6d7368.jpg (deflated 4%)\n",
            "  adding: runs/detect/exp21/image_from_china-3648-_jpg.rf.04d86a8e95e30c64b1b1c30142465241.jpg (deflated 7%)\n",
            "  adding: runs/detect/exp21/image_from_china-4114-_jpg.rf.d7f2eb999fe131bf64dc729c11b1bef9.jpg (deflated 7%)\n",
            "  adding: runs/detect/exp21/image_from_china-969-_jpg.rf.6833734c551a488bc8032e53a0522069.jpg (deflated 5%)\n",
            "  adding: runs/detect/exp21/image_from_china-3949-_jpg.rf.40499e60dcce0df5fa605082a841982d.jpg (deflated 4%)\n",
            "  adding: runs/detect/exp21/image_from_china-1723-_jpg.rf.7b0d9e7dc42d10d16fe31c08ffe1307c.jpg (deflated 5%)\n",
            "  adding: runs/detect/exp21/image_from_china-4443-_jpg.rf.26d3607d0ea8c1e7909a20d736028251.jpg (deflated 5%)\n",
            "  adding: runs/detect/exp21/image_from_china-1405-_jpg.rf.9f5ad4bf6f757d9a91fb3692b1fcbdad.jpg (deflated 4%)\n",
            "  adding: runs/detect/exp21/image_from_china-4285-_jpg.rf.5f87a5fb2ef98ff749d4bb96a2040955.jpg (deflated 5%)\n",
            "  adding: runs/detect/exp21/image_from_china-1992-_jpg.rf.4e5ade8dc57e24dd3b82fc8c7868db61.jpg (deflated 5%)\n"
          ]
        }
      ]
    },
    {
      "cell_type": "code",
      "source": [
        "!unzip /content/v5-1-640-normal-weight.zip"
      ],
      "metadata": {
        "colab": {
          "base_uri": "https://localhost:8080/"
        },
        "id": "EXSyS1TicUwZ",
        "outputId": "9cb205fc-23a2-46df-8c59-ab553023e353"
      },
      "execution_count": null,
      "outputs": [
        {
          "output_type": "stream",
          "name": "stdout",
          "text": [
            "Archive:  /content/v5-1-640-normal-weight.zip\n",
            "  inflating: runs/train/exp3/weights/best.pt  \n"
          ]
        }
      ]
    },
    {
      "cell_type": "code",
      "source": [
        "%cd /content/yolov5/\n",
        "#---- all\n",
        "!python detect.py --source /content/sample --weights /content/biclass.pt --line-thickness 1  --augment  "
      ],
      "metadata": {
        "id": "VTT3Z7ALcV1Y",
        "colab": {
          "base_uri": "https://localhost:8080/"
        },
        "outputId": "52d42002-d0b1-4273-db60-aa431508a04b"
      },
      "execution_count": null,
      "outputs": [
        {
          "output_type": "stream",
          "name": "stdout",
          "text": [
            "/content/yolov5\n",
            "\u001b[34m\u001b[1mdetect: \u001b[0mweights=['/content/biclass.pt'], source=/content/sample, data=data/coco128.yaml, imgsz=[640, 640], conf_thres=0.25, iou_thres=0.45, max_det=1000, device=, view_img=False, save_txt=False, save_conf=False, save_crop=False, nosave=False, classes=None, agnostic_nms=False, augment=False, visualize=True, update=False, project=runs/detect, name=exp, exist_ok=False, line_thickness=1, hide_labels=False, hide_conf=False, half=False, dnn=False, vid_stride=1\n",
            "YOLOv5 🚀 v7.0-21-ga1b6e79 Python-3.8.15 torch-1.13.0+cu117 CUDA:0 (Tesla T4, 15110MiB)\n",
            "\n",
            "Fusing layers... \n",
            "custom_YOLOv5s summary: 157 layers, 7081055 parameters, 0 gradients, 16.0 GFLOPs\n",
            "Saving runs/detect/exp7/test1/stage0_Conv_features.png... (32/32)\n",
            "Saving runs/detect/exp7/test1/stage1_Conv_features.png... (32/64)\n",
            "Saving runs/detect/exp7/test1/stage2_C3_features.png... (32/64)\n",
            "Saving runs/detect/exp7/test1/stage3_Conv_features.png... (32/128)\n",
            "Saving runs/detect/exp7/test1/stage4_C3_features.png... (32/128)\n",
            "Saving runs/detect/exp7/test1/stage5_Conv_features.png... (32/256)\n",
            "Saving runs/detect/exp7/test1/stage6_C3_features.png... (32/256)\n",
            "Saving runs/detect/exp7/test1/stage7_Conv_features.png... (32/512)\n",
            "Saving runs/detect/exp7/test1/stage8_C3_features.png... (32/512)\n",
            "Saving runs/detect/exp7/test1/stage9_SPPF_features.png... (32/512)\n",
            "Saving runs/detect/exp7/test1/stage10_Conv_features.png... (32/256)\n",
            "Saving runs/detect/exp7/test1/stage11_Upsample_features.png... (32/256)\n",
            "Saving runs/detect/exp7/test1/stage12_Concat_features.png... (32/512)\n",
            "Saving runs/detect/exp7/test1/stage13_C3_features.png... (32/256)\n",
            "Saving runs/detect/exp7/test1/stage14_Conv_features.png... (32/128)\n",
            "Saving runs/detect/exp7/test1/stage15_Upsample_features.png... (32/128)\n",
            "Saving runs/detect/exp7/test1/stage16_Concat_features.png... (32/256)\n",
            "Saving runs/detect/exp7/test1/stage17_C3_features.png... (32/128)\n",
            "Saving runs/detect/exp7/test1/stage18_Conv_features.png... (32/128)\n",
            "Saving runs/detect/exp7/test1/stage19_Concat_features.png... (32/512)\n",
            "Saving runs/detect/exp7/test1/stage20_C3_features.png... (32/256)\n",
            "Saving runs/detect/exp7/test1/stage21_Conv_features.png... (32/256)\n",
            "Saving runs/detect/exp7/test1/stage22_Concat_features.png... (32/512)\n",
            "Saving runs/detect/exp7/test1/stage23_C3_features.png... (32/512)\n",
            "image 1/2 /content/sample/test1.jpg: 640x640 5 With_Helmets, 31962.4ms\n",
            "Saving runs/detect/exp7/test2/stage0_Conv_features.png... (32/32)\n",
            "Saving runs/detect/exp7/test2/stage1_Conv_features.png... (32/64)\n",
            "Saving runs/detect/exp7/test2/stage2_C3_features.png... (32/64)\n",
            "Saving runs/detect/exp7/test2/stage3_Conv_features.png... (32/128)\n",
            "Saving runs/detect/exp7/test2/stage4_C3_features.png... (32/128)\n",
            "Saving runs/detect/exp7/test2/stage5_Conv_features.png... (32/256)\n",
            "Saving runs/detect/exp7/test2/stage6_C3_features.png... (32/256)\n",
            "Saving runs/detect/exp7/test2/stage7_Conv_features.png... (32/512)\n",
            "Saving runs/detect/exp7/test2/stage8_C3_features.png... (32/512)\n",
            "Saving runs/detect/exp7/test2/stage9_SPPF_features.png... (32/512)\n",
            "Saving runs/detect/exp7/test2/stage10_Conv_features.png... (32/256)\n",
            "Saving runs/detect/exp7/test2/stage11_Upsample_features.png... (32/256)\n",
            "Saving runs/detect/exp7/test2/stage12_Concat_features.png... (32/512)\n",
            "Saving runs/detect/exp7/test2/stage13_C3_features.png... (32/256)\n",
            "Saving runs/detect/exp7/test2/stage14_Conv_features.png... (32/128)\n",
            "Saving runs/detect/exp7/test2/stage15_Upsample_features.png... (32/128)\n",
            "Saving runs/detect/exp7/test2/stage16_Concat_features.png... (32/256)\n",
            "Saving runs/detect/exp7/test2/stage17_C3_features.png... (32/128)\n",
            "Saving runs/detect/exp7/test2/stage18_Conv_features.png... (32/128)\n",
            "Saving runs/detect/exp7/test2/stage19_Concat_features.png... (32/512)\n",
            "Saving runs/detect/exp7/test2/stage20_C3_features.png... (32/256)\n",
            "Saving runs/detect/exp7/test2/stage21_Conv_features.png... (32/256)\n",
            "Saving runs/detect/exp7/test2/stage22_Concat_features.png... (32/512)\n",
            "Saving runs/detect/exp7/test2/stage23_C3_features.png... (32/512)\n",
            "image 2/2 /content/sample/test2.jpg: 640x640 3 With_Helmets, 1 Without_Helmet, 34223.4ms\n",
            "Speed: 0.6ms pre-process, 33092.9ms inference, 1.4ms NMS per image at shape (1, 3, 640, 640)\n",
            "Results saved to \u001b[1mruns/detect/exp7\u001b[0m\n"
          ]
        }
      ]
    },
    {
      "cell_type": "code",
      "source": [
        "!python detect.py --source /content/sample --weights /content/biclass.pt --line-thickness 1  --classes 1 "
      ],
      "metadata": {
        "colab": {
          "base_uri": "https://localhost:8080/"
        },
        "id": "CkqN1-wtHAVH",
        "outputId": "86c4cced-bf12-4803-9619-e8d6d51cd5e9"
      },
      "execution_count": null,
      "outputs": [
        {
          "output_type": "stream",
          "name": "stdout",
          "text": [
            "\u001b[34m\u001b[1mdetect: \u001b[0mweights=['/content/biclass.pt'], source=/content/sample, data=data/coco128.yaml, imgsz=[640, 640], conf_thres=0.25, iou_thres=0.45, max_det=1000, device=, view_img=False, save_txt=False, save_conf=False, save_crop=False, nosave=False, classes=[1], agnostic_nms=False, augment=False, visualize=False, update=False, project=runs/detect, name=exp, exist_ok=False, line_thickness=1, hide_labels=False, hide_conf=False, half=False, dnn=False, vid_stride=1\n",
            "YOLOv5 🚀 v7.0-21-ga1b6e79 Python-3.8.15 torch-1.13.0+cu117 CUDA:0 (Tesla T4, 15110MiB)\n",
            "\n",
            "Fusing layers... \n",
            "custom_YOLOv5s summary: 157 layers, 7081055 parameters, 0 gradients, 16.0 GFLOPs\n",
            "image 1/2 /content/sample/test1.jpg: 640x640 (no detections), 12.7ms\n",
            "image 2/2 /content/sample/test2.jpg: 640x640 1 Without_Helmet, 12.8ms\n",
            "Speed: 0.6ms pre-process, 12.8ms inference, 1.3ms NMS per image at shape (1, 3, 640, 640)\n",
            "Results saved to \u001b[1mruns/detect/exp13\u001b[0m\n"
          ]
        }
      ]
    },
    {
      "cell_type": "code",
      "source": [
        "!python detect.py --source /content/sample --weights /content/all.pt --line-thickness 1 --classes 1  "
      ],
      "metadata": {
        "colab": {
          "base_uri": "https://localhost:8080/"
        },
        "id": "JOH-6rivHei8",
        "outputId": "21d42498-b7a3-467b-fb5c-e3300637e69c"
      },
      "execution_count": null,
      "outputs": [
        {
          "output_type": "stream",
          "name": "stdout",
          "text": [
            "\u001b[34m\u001b[1mdetect: \u001b[0mweights=['/content/all.pt'], source=/content/sample, data=data/coco128.yaml, imgsz=[640, 640], conf_thres=0.25, iou_thres=0.45, max_det=1000, device=, view_img=False, save_txt=False, save_conf=False, save_crop=False, nosave=False, classes=[1], agnostic_nms=False, augment=False, visualize=False, update=False, project=runs/detect, name=exp, exist_ok=False, line_thickness=1, hide_labels=False, hide_conf=False, half=False, dnn=False, vid_stride=1\n",
            "YOLOv5 🚀 v7.0-21-ga1b6e79 Python-3.8.15 torch-1.13.0+cu117 CUDA:0 (Tesla T4, 15110MiB)\n",
            "\n",
            "Fusing layers... \n",
            "custom_YOLOv5s summary: 157 layers, 7081055 parameters, 0 gradients, 16.0 GFLOPs\n",
            "image 1/2 /content/sample/test1.jpg: 640x640 (no detections), 12.7ms\n",
            "image 2/2 /content/sample/test2.jpg: 640x640 1 Without_Helmet, 12.9ms\n",
            "Speed: 0.6ms pre-process, 12.8ms inference, 1.6ms NMS per image at shape (1, 3, 640, 640)\n",
            "Results saved to \u001b[1mruns/detect/exp12\u001b[0m\n"
          ]
        }
      ]
    },
    {
      "cell_type": "code",
      "source": [
        "!python detect.py --source /content/sample --weights /content/best.pt --line-thickness 1  --classes 1  "
      ],
      "metadata": {
        "colab": {
          "base_uri": "https://localhost:8080/"
        },
        "id": "DfxApIK4Hgqz",
        "outputId": "15b8d849-a15b-4985-91ef-b94b10775521"
      },
      "execution_count": null,
      "outputs": [
        {
          "output_type": "stream",
          "name": "stdout",
          "text": [
            "\u001b[34m\u001b[1mdetect: \u001b[0mweights=['/content/best.pt'], source=/content/sample, data=data/coco128.yaml, imgsz=[640, 640], conf_thres=0.25, iou_thres=0.45, max_det=1000, device=, view_img=False, save_txt=False, save_conf=False, save_crop=False, nosave=False, classes=[1], agnostic_nms=False, augment=False, visualize=False, update=False, project=runs/detect, name=exp, exist_ok=False, line_thickness=1, hide_labels=False, hide_conf=False, half=False, dnn=False, vid_stride=1\n",
            "YOLOv5 🚀 v7.0-21-ga1b6e79 Python-3.8.15 torch-1.13.0+cu117 CUDA:0 (Tesla T4, 15110MiB)\n",
            "\n",
            "Fusing layers... \n",
            "custom_YOLOv5s summary: 182 layers, 7249215 parameters, 0 gradients\n",
            "image 1/2 /content/sample/test1.jpg: 640x640 (no detections), 13.7ms\n",
            "image 2/2 /content/sample/test2.jpg: 640x640 1 Without_Helmet, 13.9ms\n",
            "Speed: 0.6ms pre-process, 13.8ms inference, 1.5ms NMS per image at shape (1, 3, 640, 640)\n",
            "Results saved to \u001b[1mruns/detect/exp11\u001b[0m\n"
          ]
        }
      ]
    },
    {
      "cell_type": "code",
      "source": [
        "\n",
        "!zip -r biclass.zip runs/detect/exp7"
      ],
      "metadata": {
        "colab": {
          "base_uri": "https://localhost:8080/"
        },
        "id": "Pn_2wXmc9yRD",
        "outputId": "0bf3b336-2f6e-4a93-a04c-78bb3a7ca1cd"
      },
      "execution_count": null,
      "outputs": [
        {
          "output_type": "stream",
          "name": "stdout",
          "text": [
            "  adding: runs/detect/exp7/ (stored 0%)\n",
            "  adding: runs/detect/exp7/test1.jpg (deflated 5%)\n",
            "  adding: runs/detect/exp7/test2.jpg (deflated 4%)\n",
            "  adding: runs/detect/exp7/test2/ (stored 0%)\n",
            "  adding: runs/detect/exp7/test2/stage2_C3_features.npy (deflated 11%)\n",
            "  adding: runs/detect/exp7/test2/stage13_C3_features.png (deflated 9%)\n",
            "  adding: runs/detect/exp7/test2/stage22_Concat_features.npy (deflated 9%)\n",
            "  adding: runs/detect/exp7/test2/stage18_Conv_features.png (deflated 9%)\n",
            "  adding: runs/detect/exp7/test2/stage9_SPPF_features.png (deflated 19%)\n",
            "  adding: runs/detect/exp7/test2/stage15_Upsample_features.npy (deflated 74%)\n",
            "  adding: runs/detect/exp7/test2/stage8_C3_features.npy (deflated 9%)\n",
            "  adding: runs/detect/exp7/test2/stage21_Conv_features.npy (deflated 8%)\n",
            "  adding: runs/detect/exp7/test2/stage3_Conv_features.npy (deflated 11%)\n",
            "  adding: runs/detect/exp7/test2/stage22_Concat_features.png (deflated 19%)\n",
            "  adding: runs/detect/exp7/test2/stage13_C3_features.npy (deflated 9%)\n",
            "  adding: runs/detect/exp7/test2/stage3_Conv_features.png (deflated 0%)\n",
            "  adding: runs/detect/exp7/test2/stage6_C3_features.npy (deflated 10%)\n",
            "  adding: runs/detect/exp7/test2/stage12_Concat_features.npy (deflated 42%)\n",
            "  adding: runs/detect/exp7/test2/stage7_Conv_features.npy (deflated 11%)\n",
            "  adding: runs/detect/exp7/test2/stage9_SPPF_features.npy (deflated 11%)\n",
            "  adding: runs/detect/exp7/test2/stage20_C3_features.png (deflated 9%)\n",
            "  adding: runs/detect/exp7/test2/stage15_Upsample_features.png (deflated 2%)\n",
            "  adding: runs/detect/exp7/test2/stage14_Conv_features.npy (deflated 8%)\n",
            "  adding: runs/detect/exp7/test2/stage18_Conv_features.npy (deflated 8%)\n",
            "  adding: runs/detect/exp7/test2/stage17_C3_features.npy (deflated 8%)\n",
            "  adding: runs/detect/exp7/test2/stage14_Conv_features.png (deflated 8%)\n",
            "  adding: runs/detect/exp7/test2/stage4_C3_features.npy (deflated 11%)\n",
            "  adding: runs/detect/exp7/test2/stage5_Conv_features.png (deflated 8%)\n",
            "  adding: runs/detect/exp7/test2/stage6_C3_features.png (deflated 9%)\n",
            "  adding: runs/detect/exp7/test2/stage16_Concat_features.npy (deflated 43%)\n",
            "  adding: runs/detect/exp7/test2/stage23_C3_features.png (deflated 19%)\n",
            "  adding: runs/detect/exp7/test2/stage19_Concat_features.png (deflated 9%)\n",
            "  adding: runs/detect/exp7/test2/stage12_Concat_features.png (deflated 19%)\n",
            "  adding: runs/detect/exp7/test2/stage16_Concat_features.png (deflated 2%)\n",
            "  adding: runs/detect/exp7/test2/stage7_Conv_features.png (deflated 19%)\n",
            "  adding: runs/detect/exp7/test2/stage1_Conv_features.png (deflated 0%)\n",
            "  adding: runs/detect/exp7/test2/stage5_Conv_features.npy (deflated 10%)\n",
            "  adding: runs/detect/exp7/test2/stage20_C3_features.npy (deflated 8%)\n",
            "  adding: runs/detect/exp7/test2/stage10_Conv_features.npy (deflated 10%)\n",
            "  adding: runs/detect/exp7/test2/stage4_C3_features.png (deflated 0%)\n",
            "  adding: runs/detect/exp7/test2/stage21_Conv_features.png (deflated 19%)\n",
            "  adding: runs/detect/exp7/test2/stage10_Conv_features.png (deflated 19%)\n",
            "  adding: runs/detect/exp7/test2/stage8_C3_features.png (deflated 18%)\n",
            "  adding: runs/detect/exp7/test2/stage0_Conv_features.png (deflated 0%)\n",
            "  adding: runs/detect/exp7/test2/stage2_C3_features.png (deflated 0%)\n",
            "  adding: runs/detect/exp7/test2/stage17_C3_features.png (deflated 1%)\n",
            "  adding: runs/detect/exp7/test2/stage0_Conv_features.npy (deflated 14%)\n",
            "  adding: runs/detect/exp7/test2/stage19_Concat_features.npy (deflated 9%)\n",
            "  adding: runs/detect/exp7/test2/stage11_Upsample_features.png (deflated 19%)\n",
            "  adding: runs/detect/exp7/test2/stage1_Conv_features.npy (deflated 12%)\n",
            "  adding: runs/detect/exp7/test2/stage11_Upsample_features.npy (deflated 74%)\n",
            "  adding: runs/detect/exp7/test2/stage23_C3_features.npy (deflated 7%)\n",
            "  adding: runs/detect/exp7/test1/ (stored 0%)\n",
            "  adding: runs/detect/exp7/test1/stage2_C3_features.npy (deflated 9%)\n",
            "  adding: runs/detect/exp7/test1/stage13_C3_features.png (deflated 8%)\n",
            "  adding: runs/detect/exp7/test1/stage22_Concat_features.npy (deflated 9%)\n",
            "  adding: runs/detect/exp7/test1/stage18_Conv_features.png (deflated 9%)\n",
            "  adding: runs/detect/exp7/test1/stage9_SPPF_features.png (deflated 18%)\n",
            "  adding: runs/detect/exp7/test1/stage15_Upsample_features.npy (deflated 74%)\n",
            "  adding: runs/detect/exp7/test1/stage8_C3_features.npy (deflated 9%)\n",
            "  adding: runs/detect/exp7/test1/stage21_Conv_features.npy (deflated 8%)\n",
            "  adding: runs/detect/exp7/test1/stage3_Conv_features.npy (deflated 9%)\n",
            "  adding: runs/detect/exp7/test1/stage22_Concat_features.png (deflated 19%)\n",
            "  adding: runs/detect/exp7/test1/stage13_C3_features.npy (deflated 9%)\n",
            "  adding: runs/detect/exp7/test1/stage3_Conv_features.png (deflated 0%)\n",
            "  adding: runs/detect/exp7/test1/stage6_C3_features.npy (deflated 10%)\n",
            "  adding: runs/detect/exp7/test1/stage12_Concat_features.npy (deflated 42%)\n",
            "  adding: runs/detect/exp7/test1/stage7_Conv_features.npy (deflated 11%)\n",
            "  adding: runs/detect/exp7/test1/stage9_SPPF_features.npy (deflated 11%)\n",
            "  adding: runs/detect/exp7/test1/stage20_C3_features.png (deflated 9%)\n",
            "  adding: runs/detect/exp7/test1/stage15_Upsample_features.png (deflated 2%)\n",
            "  adding: runs/detect/exp7/test1/stage14_Conv_features.npy (deflated 9%)\n",
            "  adding: runs/detect/exp7/test1/stage18_Conv_features.npy (deflated 9%)\n",
            "  adding: runs/detect/exp7/test1/stage17_C3_features.npy (deflated 9%)\n",
            "  adding: runs/detect/exp7/test1/stage14_Conv_features.png (deflated 8%)\n",
            "  adding: runs/detect/exp7/test1/stage4_C3_features.npy (deflated 10%)\n",
            "  adding: runs/detect/exp7/test1/stage5_Conv_features.png (deflated 8%)\n",
            "  adding: runs/detect/exp7/test1/stage6_C3_features.png (deflated 8%)\n",
            "  adding: runs/detect/exp7/test1/stage16_Concat_features.npy (deflated 42%)\n",
            "  adding: runs/detect/exp7/test1/stage23_C3_features.png (deflated 19%)\n",
            "  adding: runs/detect/exp7/test1/stage19_Concat_features.png (deflated 9%)\n",
            "  adding: runs/detect/exp7/test1/stage12_Concat_features.png (deflated 19%)\n",
            "  adding: runs/detect/exp7/test1/stage16_Concat_features.png (deflated 2%)\n",
            "  adding: runs/detect/exp7/test1/stage7_Conv_features.png (deflated 20%)\n",
            "  adding: runs/detect/exp7/test1/stage1_Conv_features.png (deflated 0%)\n",
            "  adding: runs/detect/exp7/test1/stage5_Conv_features.npy (deflated 9%)\n",
            "  adding: runs/detect/exp7/test1/stage20_C3_features.npy (deflated 8%)\n",
            "  adding: runs/detect/exp7/test1/stage10_Conv_features.npy (deflated 10%)\n",
            "  adding: runs/detect/exp7/test1/stage4_C3_features.png (deflated 1%)\n",
            "  adding: runs/detect/exp7/test1/stage21_Conv_features.png (deflated 19%)\n",
            "  adding: runs/detect/exp7/test1/stage10_Conv_features.png (deflated 19%)\n",
            "  adding: runs/detect/exp7/test1/stage8_C3_features.png (deflated 19%)\n",
            "  adding: runs/detect/exp7/test1/stage0_Conv_features.png (deflated 0%)\n",
            "  adding: runs/detect/exp7/test1/stage2_C3_features.png (deflated 0%)\n",
            "  adding: runs/detect/exp7/test1/stage17_C3_features.png (deflated 1%)\n",
            "  adding: runs/detect/exp7/test1/stage0_Conv_features.npy (deflated 10%)\n",
            "  adding: runs/detect/exp7/test1/stage19_Concat_features.npy (deflated 9%)\n",
            "  adding: runs/detect/exp7/test1/stage11_Upsample_features.png (deflated 19%)\n",
            "  adding: runs/detect/exp7/test1/stage1_Conv_features.npy (deflated 8%)\n",
            "  adding: runs/detect/exp7/test1/stage11_Upsample_features.npy (deflated 74%)\n",
            "  adding: runs/detect/exp7/test1/stage23_C3_features.npy (deflated 7%)\n"
          ]
        }
      ]
    },
    {
      "cell_type": "code",
      "source": [
        "!python detect.py --source /content/sample --weights /content/best.pt --line-thickness 1  "
      ],
      "metadata": {
        "colab": {
          "base_uri": "https://localhost:8080/"
        },
        "id": "mlY5jEAx7Bfg",
        "outputId": "bb6563b0-547c-4c13-fb2f-9831eeb4c3d4"
      },
      "execution_count": null,
      "outputs": [
        {
          "output_type": "stream",
          "name": "stdout",
          "text": [
            "\u001b[34m\u001b[1mdetect: \u001b[0mweights=['/content/best.pt'], source=/content/sample, data=data/coco128.yaml, imgsz=[640, 640], conf_thres=0.25, iou_thres=0.45, max_det=1000, device=, view_img=False, save_txt=False, save_conf=False, save_crop=False, nosave=False, classes=None, agnostic_nms=False, augment=False, visualize=False, update=False, project=runs/detect, name=exp, exist_ok=False, line_thickness=1, hide_labels=False, hide_conf=False, half=False, dnn=False, vid_stride=1\n",
            "YOLOv5 🚀 v7.0-21-ga1b6e79 Python-3.8.15 torch-1.13.0+cu117 CUDA:0 (Tesla T4, 15110MiB)\n",
            "\n",
            "Fusing layers... \n",
            "custom_YOLOv5s summary: 157 layers, 7081055 parameters, 0 gradients, 16.0 GFLOPs\n",
            "image 1/2 /content/sample/test1.jpg: 640x640 6 With_Helmets, 12.7ms\n",
            "image 2/2 /content/sample/test2.jpg: 640x640 2 With_Helmets, 1 Without_Helmet, 12.9ms\n",
            "Speed: 0.6ms pre-process, 12.8ms inference, 1.5ms NMS per image at shape (1, 3, 640, 640)\n",
            "Results saved to \u001b[1mruns/detect/exp3\u001b[0m\n"
          ]
        }
      ]
    },
    {
      "cell_type": "code",
      "source": [],
      "metadata": {
        "id": "7UGiM0I554f3"
      },
      "execution_count": null,
      "outputs": []
    }
  ],
  "metadata": {
    "colab": {
      "provenance": [],
      "collapsed_sections": [
        "vLnXzlpUu1Cj",
        "-B4237Tgwh7J"
      ]
    },
    "gpuClass": "standard",
    "kernelspec": {
      "display_name": "Python 3",
      "name": "python3"
    },
    "accelerator": "GPU"
  },
  "nbformat": 4,
  "nbformat_minor": 0
}